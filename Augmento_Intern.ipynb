{
 "cells": [
  {
   "cell_type": "code",
   "execution_count": 1,
   "metadata": {
    "collapsed": false
   },
   "outputs": [],
   "source": [
    "import numpy as np\n",
    "import pandas as pd\n",
    "from pandas import DataFrame\n",
    "from pandas import Series\n",
    "import os\n",
    "import scipy\n",
    "import sklearn\n",
    "import seaborn as sns\n",
    "import matplotlib\n",
    "import matplotlib.pyplot as plt\n",
    "%matplotlib inline\n",
    "#plt.rcParams['figure.figsize'] = (8,8)\n",
    "\n",
    "import nltk \n",
    "#nltk.download(\"all\")\n",
    "from wordcloud import WordCloud\n",
    "\n",
    "\n",
    "from IPython.core.interactiveshell import InteractiveShell\n",
    "InteractiveShell.ast_node_interactivity = \"all\"\n"
   ]
  },
  {
   "cell_type": "code",
   "execution_count": 2,
   "metadata": {
    "collapsed": true
   },
   "outputs": [],
   "source": [
    "#Set PANDAS to show all columns in DataFrame\n",
    "pd.set_option('display.max_columns', None)"
   ]
  },
  {
   "cell_type": "markdown",
   "metadata": {},
   "source": [
    "## Let's Have a General Overview of Our Dataset"
   ]
  },
  {
   "cell_type": "code",
   "execution_count": 3,
   "metadata": {
    "collapsed": false
   },
   "outputs": [],
   "source": [
    "df = pd.read_pickle(\"FinTech_cleaned.pkl\")"
   ]
  },
  {
   "cell_type": "code",
   "execution_count": 4,
   "metadata": {
    "collapsed": false
   },
   "outputs": [
    {
     "data": {
      "text/plain": [
       "Index(['topic', 'tweet', 'user', 'date', 'description', 'location',\n",
       "       'followers', 'stakeholder'],\n",
       "      dtype='object')"
      ]
     },
     "execution_count": 4,
     "metadata": {},
     "output_type": "execute_result"
    },
    {
     "data": {
      "text/plain": [
       "topic          object\n",
       "tweet          object\n",
       "user           object\n",
       "date           object\n",
       "description    object\n",
       "location       object\n",
       "followers      object\n",
       "stakeholder    object\n",
       "dtype: object"
      ]
     },
     "execution_count": 4,
     "metadata": {},
     "output_type": "execute_result"
    }
   ],
   "source": [
    "df.columns # name of the columns\n",
    "df.dtypes  # type of each column"
   ]
  },
  {
   "cell_type": "code",
   "execution_count": null,
   "metadata": {
    "collapsed": true
   },
   "outputs": [],
   "source": []
  },
  {
   "cell_type": "code",
   "execution_count": 5,
   "metadata": {
    "collapsed": false
   },
   "outputs": [
    {
     "data": {
      "text/plain": [
       "(349153, 8)"
      ]
     },
     "execution_count": 5,
     "metadata": {},
     "output_type": "execute_result"
    },
    {
     "data": {
      "text/html": [
       "<div>\n",
       "<table border=\"1\" class=\"dataframe\">\n",
       "  <thead>\n",
       "    <tr style=\"text-align: right;\">\n",
       "      <th></th>\n",
       "      <th>topic</th>\n",
       "      <th>tweet</th>\n",
       "      <th>user</th>\n",
       "      <th>date</th>\n",
       "      <th>description</th>\n",
       "      <th>location</th>\n",
       "      <th>followers</th>\n",
       "      <th>stakeholder</th>\n",
       "    </tr>\n",
       "  </thead>\n",
       "  <tbody>\n",
       "    <tr>\n",
       "      <th>0</th>\n",
       "      <td>Fintech</td>\n",
       "      <td>#bitcoin #fintech Fedcoin: The U.S. Will Issue...</td>\n",
       "      <td>Satoshinet_com</td>\n",
       "      <td>Thu Jan 12 17:14:10 +0000 2017</td>\n",
       "      <td>#bitcoin #fintech Get Free BitCoin - BitCoin F...</td>\n",
       "      <td>Orlando, FL</td>\n",
       "      <td>\\N</td>\n",
       "      <td>Ambiguous</td>\n",
       "    </tr>\n",
       "    <tr>\n",
       "      <th>1</th>\n",
       "      <td>Fintech</td>\n",
       "      <td>RT @guzmand: No one innovation is a silver bul...</td>\n",
       "      <td>anas_sulaimi</td>\n",
       "      <td>Thu Jan 12 17:14:12 +0000 2017</td>\n",
       "      <td>GUtech Graduate #IT Consultant: #cybersecurity...</td>\n",
       "      <td>Muscat, Oman</td>\n",
       "      <td>\\N</td>\n",
       "      <td>Ambiguous</td>\n",
       "    </tr>\n",
       "  </tbody>\n",
       "</table>\n",
       "</div>"
      ],
      "text/plain": [
       "     topic                                              tweet            user  \\\n",
       "0  Fintech  #bitcoin #fintech Fedcoin: The U.S. Will Issue...  Satoshinet_com   \n",
       "1  Fintech  RT @guzmand: No one innovation is a silver bul...    anas_sulaimi   \n",
       "\n",
       "                             date  \\\n",
       "0  Thu Jan 12 17:14:10 +0000 2017   \n",
       "1  Thu Jan 12 17:14:12 +0000 2017   \n",
       "\n",
       "                                         description      location followers  \\\n",
       "0  #bitcoin #fintech Get Free BitCoin - BitCoin F...   Orlando, FL        \\N   \n",
       "1  GUtech Graduate #IT Consultant: #cybersecurity...  Muscat, Oman        \\N   \n",
       "\n",
       "  stakeholder  \n",
       "0   Ambiguous  \n",
       "1   Ambiguous  "
      ]
     },
     "execution_count": 5,
     "metadata": {},
     "output_type": "execute_result"
    },
    {
     "data": {
      "text/html": [
       "<div>\n",
       "<table border=\"1\" class=\"dataframe\">\n",
       "  <thead>\n",
       "    <tr style=\"text-align: right;\">\n",
       "      <th></th>\n",
       "      <th>topic</th>\n",
       "      <th>tweet</th>\n",
       "      <th>user</th>\n",
       "      <th>date</th>\n",
       "      <th>description</th>\n",
       "      <th>location</th>\n",
       "      <th>followers</th>\n",
       "      <th>stakeholder</th>\n",
       "    </tr>\n",
       "  </thead>\n",
       "  <tbody>\n",
       "    <tr>\n",
       "      <th>count</th>\n",
       "      <td>349153</td>\n",
       "      <td>349153</td>\n",
       "      <td>349153</td>\n",
       "      <td>349153</td>\n",
       "      <td>349153</td>\n",
       "      <td>349153</td>\n",
       "      <td>349153</td>\n",
       "      <td>349153</td>\n",
       "    </tr>\n",
       "    <tr>\n",
       "      <th>unique</th>\n",
       "      <td>1</td>\n",
       "      <td>217112</td>\n",
       "      <td>59345</td>\n",
       "      <td>318660</td>\n",
       "      <td>62036</td>\n",
       "      <td>19335</td>\n",
       "      <td>21656</td>\n",
       "      <td>11</td>\n",
       "    </tr>\n",
       "    <tr>\n",
       "      <th>top</th>\n",
       "      <td>Fintech</td>\n",
       "      <td>RT @quovo: From 18 to 215 financial institutio...</td>\n",
       "      <td>bitcoinagile</td>\n",
       "      <td>Thu Mar 02 12:42:33 +0000 2017</td>\n",
       "      <td>Streaming News: Bitcoin, Blockchain &amp; Beyond #...</td>\n",
       "      <td>\\N</td>\n",
       "      <td>\\N</td>\n",
       "      <td>Ambiguous</td>\n",
       "    </tr>\n",
       "    <tr>\n",
       "      <th>freq</th>\n",
       "      <td>349153</td>\n",
       "      <td>1784</td>\n",
       "      <td>10018</td>\n",
       "      <td>34</td>\n",
       "      <td>10018</td>\n",
       "      <td>73058</td>\n",
       "      <td>173264</td>\n",
       "      <td>206094</td>\n",
       "    </tr>\n",
       "  </tbody>\n",
       "</table>\n",
       "</div>"
      ],
      "text/plain": [
       "          topic                                              tweet  \\\n",
       "count    349153                                             349153   \n",
       "unique        1                                             217112   \n",
       "top     Fintech  RT @quovo: From 18 to 215 financial institutio...   \n",
       "freq     349153                                               1784   \n",
       "\n",
       "                user                            date  \\\n",
       "count         349153                          349153   \n",
       "unique         59345                          318660   \n",
       "top     bitcoinagile  Thu Mar 02 12:42:33 +0000 2017   \n",
       "freq           10018                              34   \n",
       "\n",
       "                                              description location followers  \\\n",
       "count                                              349153   349153    349153   \n",
       "unique                                              62036    19335     21656   \n",
       "top     Streaming News: Bitcoin, Blockchain & Beyond #...       \\N        \\N   \n",
       "freq                                                10018    73058    173264   \n",
       "\n",
       "       stakeholder  \n",
       "count       349153  \n",
       "unique          11  \n",
       "top      Ambiguous  \n",
       "freq        206094  "
      ]
     },
     "execution_count": 5,
     "metadata": {},
     "output_type": "execute_result"
    }
   ],
   "source": [
    "df.shape\n",
    "df.head(2)\n",
    "df.describe()\n",
    "#stakeholder : group the user was automatically classified to ( Ambiguous  means there is no label)"
   ]
  },
  {
   "cell_type": "code",
   "execution_count": 6,
   "metadata": {
    "collapsed": false
   },
   "outputs": [
    {
     "name": "stdout",
     "output_type": "stream",
     "text": [
      "Total no of Users:\n",
      " 349153\n",
      "Number of Unique Users:\n",
      " 59345\n",
      "Total no of StackHolder:\n",
      " 349153\n",
      "Number of Unique Stack Holder:\n",
      " 11\n"
     ]
    }
   ],
   "source": [
    "print(\"Total no of Users:\\n\",len(df.user))\n",
    "print(\"Number of Unique Users:\\n\",len(pd.unique(df.user)))\n",
    "print(\"Total no of StackHolder:\\n\", len(df.stakeholder))\n",
    "print(\"Number of Unique Stack Holder:\\n\", len(pd.unique(df.stakeholder)))"
   ]
  },
  {
   "cell_type": "markdown",
   "metadata": {},
   "source": [
    "** 59345 Users are classifierd into 11 Different Stakeholder group(including Ambiguous) **\n",
    "    "
   ]
  },
  {
   "cell_type": "code",
   "execution_count": null,
   "metadata": {
    "collapsed": false
   },
   "outputs": [],
   "source": []
  },
  {
   "cell_type": "code",
   "execution_count": 7,
   "metadata": {
    "collapsed": false
   },
   "outputs": [
    {
     "data": {
      "image/png": "[encoded data removed]",
      "text/plain": [
       "<matplotlib.figure.Figure at 0x114cf9e80>"
      ]
     },
     "metadata": {},
     "output_type": "display_data"
    },
    {
     "data": {
      "image/png": "[encoded data removed]",
      "text/plain": [
       "<matplotlib.figure.Figure at 0x114cf9668>"
      ]
     },
     "metadata": {},
     "output_type": "display_data"
    }
   ],
   "source": [
    "user_count = pd.DataFrame(df.user.value_counts())\n",
    "user_count.head(2)\n",
    "user_count[user_count<500].plot(kind = 'hist', title = \"Histogram of Users tweeting less than 500 times\");\n",
    "user_count[user_count>500].plot(kind = 'hist', title = \"Histogram of Users tweeting more than 500 times\");\n"
   ]
  },
  {
   "cell_type": "markdown",
   "metadata": {},
   "source": [
    "** There are few users who are tweeting more than 10000 times but the there are around 50 users tweeting around 5000-6000 times **"
   ]
  },
  {
   "cell_type": "code",
   "execution_count": 8,
   "metadata": {
    "collapsed": false
   },
   "outputs": [
    {
     "data": {
      "text/html": [
       "<div>\n",
       "<table border=\"1\" class=\"dataframe\">\n",
       "  <thead>\n",
       "    <tr style=\"text-align: right;\">\n",
       "      <th></th>\n",
       "      <th>topic</th>\n",
       "      <th>tweet</th>\n",
       "      <th>user</th>\n",
       "      <th>date</th>\n",
       "      <th>description</th>\n",
       "      <th>location</th>\n",
       "      <th>followers</th>\n",
       "      <th>stakeholder</th>\n",
       "      <th>year</th>\n",
       "      <th>month</th>\n",
       "    </tr>\n",
       "  </thead>\n",
       "  <tbody>\n",
       "    <tr>\n",
       "      <th>0</th>\n",
       "      <td>Fintech</td>\n",
       "      <td>#bitcoin #fintech Fedcoin: The U.S. Will Issue...</td>\n",
       "      <td>Satoshinet_com</td>\n",
       "      <td>2017-01-12 17:14:10</td>\n",
       "      <td>#bitcoin #fintech Get Free BitCoin - BitCoin F...</td>\n",
       "      <td>Orlando, FL</td>\n",
       "      <td>\\N</td>\n",
       "      <td>Ambiguous</td>\n",
       "      <td>2017</td>\n",
       "      <td>1</td>\n",
       "    </tr>\n",
       "  </tbody>\n",
       "</table>\n",
       "</div>"
      ],
      "text/plain": [
       "     topic                                              tweet            user  \\\n",
       "0  Fintech  #bitcoin #fintech Fedcoin: The U.S. Will Issue...  Satoshinet_com   \n",
       "\n",
       "                 date                                        description  \\\n",
       "0 2017-01-12 17:14:10  #bitcoin #fintech Get Free BitCoin - BitCoin F...   \n",
       "\n",
       "      location followers stakeholder  year  month  \n",
       "0  Orlando, FL        \\N   Ambiguous  2017      1  "
      ]
     },
     "execution_count": 8,
     "metadata": {},
     "output_type": "execute_result"
    }
   ],
   "source": [
    "df['date'] = pd.to_datetime(df['date'])\n",
    "df['year'] = df.date.dt.year\n",
    "df['month'] = df.date.dt.month\n",
    "df.head(1)"
   ]
  },
  {
   "cell_type": "code",
   "execution_count": 9,
   "metadata": {
    "collapsed": false
   },
   "outputs": [
    {
     "data": {
      "text/plain": [
       "array([2017])"
      ]
     },
     "execution_count": 9,
     "metadata": {},
     "output_type": "execute_result"
    },
    {
     "data": {
      "text/plain": [
       "array([1, 2, 3])"
      ]
     },
     "execution_count": 9,
     "metadata": {},
     "output_type": "execute_result"
    }
   ],
   "source": [
    "np.unique(df.year)\n",
    "np.unique(df.month)"
   ]
  },
  {
   "cell_type": "markdown",
   "metadata": {},
   "source": [
    "*** All the tweets are from 2017 and from first three months ***"
   ]
  },
  {
   "cell_type": "code",
   "execution_count": 10,
   "metadata": {
    "collapsed": false
   },
   "outputs": [
    {
     "data": {
      "text/html": [
       "<div>\n",
       "<table border=\"1\" class=\"dataframe\">\n",
       "  <thead>\n",
       "    <tr style=\"text-align: right;\">\n",
       "      <th></th>\n",
       "      <th>location</th>\n",
       "    </tr>\n",
       "  </thead>\n",
       "  <tbody>\n",
       "    <tr>\n",
       "      <th>\\N</th>\n",
       "      <td>73058</td>\n",
       "    </tr>\n",
       "    <tr>\n",
       "      <th>London</th>\n",
       "      <td>11991</td>\n",
       "    </tr>\n",
       "    <tr>\n",
       "      <th>Matter Doesn't Matter</th>\n",
       "      <td>10018</td>\n",
       "    </tr>\n",
       "    <tr>\n",
       "      <th>London, England</th>\n",
       "      <td>9893</td>\n",
       "    </tr>\n",
       "    <tr>\n",
       "      <th>Ottawa, Ontario</th>\n",
       "      <td>8334</td>\n",
       "    </tr>\n",
       "    <tr>\n",
       "      <th>New York, NY</th>\n",
       "      <td>4222</td>\n",
       "    </tr>\n",
       "    <tr>\n",
       "      <th>Global</th>\n",
       "      <td>4163</td>\n",
       "    </tr>\n",
       "    <tr>\n",
       "      <th>Toronto, Ontario</th>\n",
       "      <td>3691</td>\n",
       "    </tr>\n",
       "    <tr>\n",
       "      <th>Visit me</th>\n",
       "      <td>3416</td>\n",
       "    </tr>\n",
       "    <tr>\n",
       "      <th>United States</th>\n",
       "      <td>3142</td>\n",
       "    </tr>\n",
       "    <tr>\n",
       "      <th>Utah, USA</th>\n",
       "      <td>3047</td>\n",
       "    </tr>\n",
       "    <tr>\n",
       "      <th>Dallas, TX</th>\n",
       "      <td>2388</td>\n",
       "    </tr>\n",
       "    <tr>\n",
       "      <th>Singapore</th>\n",
       "      <td>2248</td>\n",
       "    </tr>\n",
       "    <tr>\n",
       "      <th>Bitcoinland</th>\n",
       "      <td>2207</td>\n",
       "    </tr>\n",
       "    <tr>\n",
       "      <th>Cincinnati, Ohio</th>\n",
       "      <td>2052</td>\n",
       "    </tr>\n",
       "  </tbody>\n",
       "</table>\n",
       "</div>"
      ],
      "text/plain": [
       "                       location\n",
       "\\N                        73058\n",
       "London                    11991\n",
       "Matter Doesn't Matter     10018\n",
       "London, England            9893\n",
       "Ottawa, Ontario            8334\n",
       "New York, NY               4222\n",
       "Global                     4163\n",
       "Toronto, Ontario           3691\n",
       "Visit me                   3416\n",
       "United States              3142\n",
       "Utah, USA                  3047\n",
       "Dallas, TX                 2388\n",
       "Singapore                  2248\n",
       "Bitcoinland                2207\n",
       "Cincinnati, Ohio           2052"
      ]
     },
     "execution_count": 10,
     "metadata": {},
     "output_type": "execute_result"
    }
   ],
   "source": [
    "location = pd.DataFrame(df.location.value_counts())\n",
    "location.head(15)"
   ]
  },
  {
   "cell_type": "markdown",
   "metadata": {},
   "source": [
    "** Maximum no of tweets are from World's Finance Centers But we have new contries like Bitcoinland**"
   ]
  },
  {
   "cell_type": "markdown",
   "metadata": {},
   "source": [
    "## Time to do some Data Cleaning\n",
    "    - I am going to omit all the rows with location /N or unknown"
   ]
  },
  {
   "cell_type": "code",
   "execution_count": 11,
   "metadata": {
    "collapsed": false
   },
   "outputs": [
    {
     "data": {
      "text/plain": [
       "\\N      173264\n",
       "704        251\n",
       "1944       230\n",
       "699        228\n",
       "37         219\n",
       "Name: followers, dtype: int64"
      ]
     },
     "execution_count": 11,
     "metadata": {},
     "output_type": "execute_result"
    }
   ],
   "source": [
    "df.followers.value_counts().head()"
   ]
  },
  {
   "cell_type": "code",
   "execution_count": 12,
   "metadata": {
    "collapsed": false
   },
   "outputs": [],
   "source": [
    "from nltk.tokenize import word_tokenize\n"
   ]
  },
  {
   "cell_type": "code",
   "execution_count": 13,
   "metadata": {
    "collapsed": false
   },
   "outputs": [
    {
     "data": {
      "image/png": "[encoded data removed]",
      "text/plain": [
       "<matplotlib.figure.Figure at 0x11d92fd68>"
      ]
     },
     "metadata": {},
     "output_type": "display_data"
    }
   ],
   "source": [
    "da = df.date.value_counts()\n",
    "da.head()\n",
    "da.plot();"
   ]
  },
  {
   "cell_type": "markdown",
   "metadata": {},
   "source": [
    "** Tweeting activity for FinTech has a somewhat irregular trend but oVerall It's increasing with time. **"
   ]
  },
  {
   "cell_type": "code",
   "execution_count": 14,
   "metadata": {
    "collapsed": false
   },
   "outputs": [],
   "source": [
    "# for row in [5, 9, 11]:\n",
    "#     raw_tweet = df['tweet'].get(row)\n",
    "#     print(raw_tweet)\n",
    "#     print(nltk.word_tokenize(raw_tweet.lower()), '\\n')"
   ]
  },
  {
   "cell_type": "code",
   "execution_count": 15,
   "metadata": {
    "collapsed": false
   },
   "outputs": [],
   "source": [
    "# from sklearn.feature_extraction.text import CountVectorizer\n",
    "# import nltk\n",
    "\n",
    "# raw_tweets = df['tweet'].tolist()\n",
    "# raw_tweets\n"
   ]
  },
  {
   "cell_type": "code",
   "execution_count": 16,
   "metadata": {
    "collapsed": false
   },
   "outputs": [],
   "source": [
    "\n",
    "# #raw_tweets = train_data['tweet'].tolist()\n",
    "\n",
    "# vectorizer = CountVectorizer(tokenizer=nltk.word_tokenize,\n",
    "#                              stop_words='english',\n",
    "#                              max_features=3000,\n",
    "#                              ngram_range=(1,1))\n",
    "\n",
    "# # Train the vectorizer on our vocabulary\n",
    "# vectorizer.fit(raw_tweet)\n",
    "\n",
    "# # Make a rectangle\n",
    "# x_test = vectorizer.transform(raw_tweet)\n",
    "\n",
    "# x_test"
   ]
  },
  {
   "cell_type": "markdown",
   "metadata": {},
   "source": [
    "## Let's Analyse our Twitter Data with Various StakeHolder Perspective"
   ]
  },
  {
   "cell_type": "code",
   "execution_count": 17,
   "metadata": {
    "collapsed": false
   },
   "outputs": [],
   "source": [
    "def t(x):\n",
    "    return pd.Series(dict(Number_of_tweets = x['tweet'].count(),\n",
    "                        Number_of_users = len(np.unique(x['user'])),\n",
    "                       Num_diff_locations = len(np.unique(x['location']))\n",
    "                      ))"
   ]
  },
  {
   "cell_type": "markdown",
   "metadata": {},
   "source": [
    "I am trying to make a DataFrame giving these inforamtion for Each Stackholder:\n",
    "    - Total No of Tweets\n",
    "    - TOtal No of Users for Each Stackholder\n",
    "    - No of Unique locations Users are from\n",
    "    "
   ]
  },
  {
   "cell_type": "code",
   "execution_count": 18,
   "metadata": {
    "collapsed": false
   },
   "outputs": [
    {
     "name": "stdout",
     "output_type": "stream",
     "text": [
      "11\n"
     ]
    },
    {
     "data": {
      "text/html": [
       "<div>\n",
       "<table border=\"1\" class=\"dataframe\">\n",
       "  <thead>\n",
       "    <tr style=\"text-align: right;\">\n",
       "      <th></th>\n",
       "      <th>Num_diff_locations</th>\n",
       "      <th>Number_of_tweets</th>\n",
       "      <th>Number_of_users</th>\n",
       "    </tr>\n",
       "    <tr>\n",
       "      <th>stakeholder</th>\n",
       "      <th></th>\n",
       "      <th></th>\n",
       "      <th></th>\n",
       "    </tr>\n",
       "  </thead>\n",
       "  <tbody>\n",
       "    <tr>\n",
       "      <th>Academia</th>\n",
       "      <td>372</td>\n",
       "      <td>1716</td>\n",
       "      <td>501</td>\n",
       "    </tr>\n",
       "    <tr>\n",
       "      <th>Ambiguous</th>\n",
       "      <td>12884</td>\n",
       "      <td>206094</td>\n",
       "      <td>38117</td>\n",
       "    </tr>\n",
       "    <tr>\n",
       "      <th>Business Representatives</th>\n",
       "      <td>2352</td>\n",
       "      <td>51831</td>\n",
       "      <td>6113</td>\n",
       "    </tr>\n",
       "    <tr>\n",
       "      <th>Companies</th>\n",
       "      <td>1460</td>\n",
       "      <td>16582</td>\n",
       "      <td>3072</td>\n",
       "    </tr>\n",
       "    <tr>\n",
       "      <th>Corporate Interest Groups</th>\n",
       "      <td>246</td>\n",
       "      <td>2103</td>\n",
       "      <td>433</td>\n",
       "    </tr>\n",
       "    <tr>\n",
       "      <th>Expert Institutions</th>\n",
       "      <td>79</td>\n",
       "      <td>327</td>\n",
       "      <td>94</td>\n",
       "    </tr>\n",
       "    <tr>\n",
       "      <th>Individual Experts</th>\n",
       "      <td>629</td>\n",
       "      <td>6294</td>\n",
       "      <td>989</td>\n",
       "    </tr>\n",
       "    <tr>\n",
       "      <th>Media</th>\n",
       "      <td>754</td>\n",
       "      <td>39125</td>\n",
       "      <td>1662</td>\n",
       "    </tr>\n",
       "    <tr>\n",
       "      <th>Non-Corporate Interests</th>\n",
       "      <td>201</td>\n",
       "      <td>1045</td>\n",
       "      <td>275</td>\n",
       "    </tr>\n",
       "    <tr>\n",
       "      <th>Policymakers</th>\n",
       "      <td>118</td>\n",
       "      <td>292</td>\n",
       "      <td>158</td>\n",
       "    </tr>\n",
       "    <tr>\n",
       "      <th>Private Person</th>\n",
       "      <td>4620</td>\n",
       "      <td>23744</td>\n",
       "      <td>8577</td>\n",
       "    </tr>\n",
       "  </tbody>\n",
       "</table>\n",
       "</div>"
      ],
      "text/plain": [
       "                           Num_diff_locations  Number_of_tweets  \\\n",
       "stakeholder                                                       \n",
       "Academia                                  372              1716   \n",
       "Ambiguous                               12884            206094   \n",
       "Business Representatives                 2352             51831   \n",
       "Companies                                1460             16582   \n",
       "Corporate Interest Groups                 246              2103   \n",
       "Expert Institutions                        79               327   \n",
       "Individual Experts                        629              6294   \n",
       "Media                                     754             39125   \n",
       "Non-Corporate Interests                   201              1045   \n",
       "Policymakers                              118               292   \n",
       "Private Person                           4620             23744   \n",
       "\n",
       "                           Number_of_users  \n",
       "stakeholder                                 \n",
       "Academia                               501  \n",
       "Ambiguous                            38117  \n",
       "Business Representatives              6113  \n",
       "Companies                             3072  \n",
       "Corporate Interest Groups              433  \n",
       "Expert Institutions                     94  \n",
       "Individual Experts                     989  \n",
       "Media                                 1662  \n",
       "Non-Corporate Interests                275  \n",
       "Policymakers                           158  \n",
       "Private Person                        8577  "
      ]
     },
     "execution_count": 18,
     "metadata": {},
     "output_type": "execute_result"
    }
   ],
   "source": [
    "# Let's Count By stackholder\n",
    "stakeholder_count = df.groupby('stakeholder').apply(t) \n",
    "print(len(stakeholder_count))\n",
    "stakeholder_count\n"
   ]
  },
  {
   "cell_type": "markdown",
   "metadata": {},
   "source": [
    "** Here Ambiguous Group is having a number of Various group, that's why Highest. **\n",
    "\n",
    "stakeholder_count.sort() - it will sort the dataframe by the stakeholder names, but that won't serve any purpose\n",
    "- Let's try three different things \n",
    "    * sort the dataframe by Number of Tweets\n",
    "    * sort by No of Users \n",
    "    * sort by No of Different Location for each stakeholder"
   ]
  },
  {
   "cell_type": "code",
   "execution_count": 19,
   "metadata": {
    "collapsed": false
   },
   "outputs": [
    {
     "name": "stderr",
     "output_type": "stream",
     "text": [
      "/Library/Frameworks/Python.framework/Versions/3.5/lib/python3.5/site-packages/ipykernel/__main__.py:1: FutureWarning: sort(columns=....) is deprecated, use sort_values(by=.....)\n",
      "  if __name__ == '__main__':\n"
     ]
    },
    {
     "data": {
      "text/html": [
       "<div>\n",
       "<table border=\"1\" class=\"dataframe\">\n",
       "  <thead>\n",
       "    <tr style=\"text-align: right;\">\n",
       "      <th></th>\n",
       "      <th>Num_diff_locations</th>\n",
       "      <th>Number_of_tweets</th>\n",
       "      <th>Number_of_users</th>\n",
       "    </tr>\n",
       "    <tr>\n",
       "      <th>stakeholder</th>\n",
       "      <th></th>\n",
       "      <th></th>\n",
       "      <th></th>\n",
       "    </tr>\n",
       "  </thead>\n",
       "  <tbody>\n",
       "    <tr>\n",
       "      <th>Ambiguous</th>\n",
       "      <td>12884</td>\n",
       "      <td>206094</td>\n",
       "      <td>38117</td>\n",
       "    </tr>\n",
       "    <tr>\n",
       "      <th>Business Representatives</th>\n",
       "      <td>2352</td>\n",
       "      <td>51831</td>\n",
       "      <td>6113</td>\n",
       "    </tr>\n",
       "    <tr>\n",
       "      <th>Media</th>\n",
       "      <td>754</td>\n",
       "      <td>39125</td>\n",
       "      <td>1662</td>\n",
       "    </tr>\n",
       "    <tr>\n",
       "      <th>Private Person</th>\n",
       "      <td>4620</td>\n",
       "      <td>23744</td>\n",
       "      <td>8577</td>\n",
       "    </tr>\n",
       "    <tr>\n",
       "      <th>Companies</th>\n",
       "      <td>1460</td>\n",
       "      <td>16582</td>\n",
       "      <td>3072</td>\n",
       "    </tr>\n",
       "    <tr>\n",
       "      <th>Individual Experts</th>\n",
       "      <td>629</td>\n",
       "      <td>6294</td>\n",
       "      <td>989</td>\n",
       "    </tr>\n",
       "    <tr>\n",
       "      <th>Corporate Interest Groups</th>\n",
       "      <td>246</td>\n",
       "      <td>2103</td>\n",
       "      <td>433</td>\n",
       "    </tr>\n",
       "    <tr>\n",
       "      <th>Academia</th>\n",
       "      <td>372</td>\n",
       "      <td>1716</td>\n",
       "      <td>501</td>\n",
       "    </tr>\n",
       "    <tr>\n",
       "      <th>Non-Corporate Interests</th>\n",
       "      <td>201</td>\n",
       "      <td>1045</td>\n",
       "      <td>275</td>\n",
       "    </tr>\n",
       "    <tr>\n",
       "      <th>Expert Institutions</th>\n",
       "      <td>79</td>\n",
       "      <td>327</td>\n",
       "      <td>94</td>\n",
       "    </tr>\n",
       "    <tr>\n",
       "      <th>Policymakers</th>\n",
       "      <td>118</td>\n",
       "      <td>292</td>\n",
       "      <td>158</td>\n",
       "    </tr>\n",
       "  </tbody>\n",
       "</table>\n",
       "</div>"
      ],
      "text/plain": [
       "                           Num_diff_locations  Number_of_tweets  \\\n",
       "stakeholder                                                       \n",
       "Ambiguous                               12884            206094   \n",
       "Business Representatives                 2352             51831   \n",
       "Media                                     754             39125   \n",
       "Private Person                           4620             23744   \n",
       "Companies                                1460             16582   \n",
       "Individual Experts                        629              6294   \n",
       "Corporate Interest Groups                 246              2103   \n",
       "Academia                                  372              1716   \n",
       "Non-Corporate Interests                   201              1045   \n",
       "Expert Institutions                        79               327   \n",
       "Policymakers                              118               292   \n",
       "\n",
       "                           Number_of_users  \n",
       "stakeholder                                 \n",
       "Ambiguous                            38117  \n",
       "Business Representatives              6113  \n",
       "Media                                 1662  \n",
       "Private Person                        8577  \n",
       "Companies                             3072  \n",
       "Individual Experts                     989  \n",
       "Corporate Interest Groups              433  \n",
       "Academia                               501  \n",
       "Non-Corporate Interests                275  \n",
       "Expert Institutions                     94  \n",
       "Policymakers                           158  "
      ]
     },
     "execution_count": 19,
     "metadata": {},
     "output_type": "execute_result"
    }
   ],
   "source": [
    "stakeholder_count = stakeholder_count.sort(['Number_of_tweets'], ascending=False)\n",
    "stakeholder_count"
   ]
  },
  {
   "cell_type": "code",
   "execution_count": 20,
   "metadata": {
    "collapsed": false
   },
   "outputs": [
    {
     "data": {
      "text/html": [
       "<div>\n",
       "<table border=\"1\" class=\"dataframe\">\n",
       "  <thead>\n",
       "    <tr style=\"text-align: right;\">\n",
       "      <th></th>\n",
       "      <th>Num_diff_locations</th>\n",
       "      <th>Number_of_tweets</th>\n",
       "      <th>Number_of_users</th>\n",
       "    </tr>\n",
       "    <tr>\n",
       "      <th>stakeholder</th>\n",
       "      <th></th>\n",
       "      <th></th>\n",
       "      <th></th>\n",
       "    </tr>\n",
       "  </thead>\n",
       "  <tbody>\n",
       "    <tr>\n",
       "      <th>Business Representatives</th>\n",
       "      <td>2352</td>\n",
       "      <td>51831</td>\n",
       "      <td>6113</td>\n",
       "    </tr>\n",
       "    <tr>\n",
       "      <th>Media</th>\n",
       "      <td>754</td>\n",
       "      <td>39125</td>\n",
       "      <td>1662</td>\n",
       "    </tr>\n",
       "    <tr>\n",
       "      <th>Private Person</th>\n",
       "      <td>4620</td>\n",
       "      <td>23744</td>\n",
       "      <td>8577</td>\n",
       "    </tr>\n",
       "    <tr>\n",
       "      <th>Companies</th>\n",
       "      <td>1460</td>\n",
       "      <td>16582</td>\n",
       "      <td>3072</td>\n",
       "    </tr>\n",
       "    <tr>\n",
       "      <th>Individual Experts</th>\n",
       "      <td>629</td>\n",
       "      <td>6294</td>\n",
       "      <td>989</td>\n",
       "    </tr>\n",
       "    <tr>\n",
       "      <th>Corporate Interest Groups</th>\n",
       "      <td>246</td>\n",
       "      <td>2103</td>\n",
       "      <td>433</td>\n",
       "    </tr>\n",
       "    <tr>\n",
       "      <th>Academia</th>\n",
       "      <td>372</td>\n",
       "      <td>1716</td>\n",
       "      <td>501</td>\n",
       "    </tr>\n",
       "    <tr>\n",
       "      <th>Non-Corporate Interests</th>\n",
       "      <td>201</td>\n",
       "      <td>1045</td>\n",
       "      <td>275</td>\n",
       "    </tr>\n",
       "    <tr>\n",
       "      <th>Expert Institutions</th>\n",
       "      <td>79</td>\n",
       "      <td>327</td>\n",
       "      <td>94</td>\n",
       "    </tr>\n",
       "    <tr>\n",
       "      <th>Policymakers</th>\n",
       "      <td>118</td>\n",
       "      <td>292</td>\n",
       "      <td>158</td>\n",
       "    </tr>\n",
       "  </tbody>\n",
       "</table>\n",
       "</div>"
      ],
      "text/plain": [
       "                           Num_diff_locations  Number_of_tweets  \\\n",
       "stakeholder                                                       \n",
       "Business Representatives                 2352             51831   \n",
       "Media                                     754             39125   \n",
       "Private Person                           4620             23744   \n",
       "Companies                                1460             16582   \n",
       "Individual Experts                        629              6294   \n",
       "Corporate Interest Groups                 246              2103   \n",
       "Academia                                  372              1716   \n",
       "Non-Corporate Interests                   201              1045   \n",
       "Expert Institutions                        79               327   \n",
       "Policymakers                              118               292   \n",
       "\n",
       "                           Number_of_users  \n",
       "stakeholder                                 \n",
       "Business Representatives              6113  \n",
       "Media                                 1662  \n",
       "Private Person                        8577  \n",
       "Companies                             3072  \n",
       "Individual Experts                     989  \n",
       "Corporate Interest Groups              433  \n",
       "Academia                               501  \n",
       "Non-Corporate Interests                275  \n",
       "Expert Institutions                     94  \n",
       "Policymakers                           158  "
      ]
     },
     "execution_count": 20,
     "metadata": {},
     "output_type": "execute_result"
    }
   ],
   "source": [
    "# 'Let's remove ambigous stakeholder row from our data frame\n",
    "stakeholder_count = stakeholder_count.drop('Ambiguous', axis = 0)\n",
    "stakeholder_count"
   ]
  },
  {
   "cell_type": "markdown",
   "metadata": {},
   "source": [
    "** It is interesting to see how many tweets are coming from what stack holder and how many \n",
    "different locations and how many users form that field are there.**\n"
   ]
  },
  {
   "cell_type": "code",
   "execution_count": 21,
   "metadata": {
    "collapsed": false
   },
   "outputs": [
    {
     "data": {
      "image/png": "[encoded data removed]",
      "text/plain": [
       "<matplotlib.figure.Figure at 0x1127ef6a0>"
      ]
     },
     "metadata": {},
     "output_type": "display_data"
    }
   ],
   "source": [
    "stakeholder_count['Number_of_tweets'].plot(kind='bar', title = \"No of tweets from various stakeholders\", fontsize = 12);\n"
   ]
  },
  {
   "cell_type": "markdown",
   "metadata": {},
   "source": [
    "** It seems People in Academia aren't much interested in FinTech and policy maker don't even think about it. **"
   ]
  },
  {
   "cell_type": "code",
   "execution_count": 22,
   "metadata": {
    "collapsed": false
   },
   "outputs": [
    {
     "name": "stderr",
     "output_type": "stream",
     "text": [
      "/Library/Frameworks/Python.framework/Versions/3.5/lib/python3.5/site-packages/ipykernel/__main__.py:1: FutureWarning: sort(columns=....) is deprecated, use sort_values(by=.....)\n",
      "  if __name__ == '__main__':\n"
     ]
    },
    {
     "data": {
      "image/png": "[encoded data removed]",
      "text/plain": [
       "<matplotlib.figure.Figure at 0x1135f1390>"
      ]
     },
     "metadata": {},
     "output_type": "display_data"
    }
   ],
   "source": [
    "stakeholder_count.sort(['Number_of_users'], ascending=False)['Number_of_users'].plot(kind='bar', title = \"No of Users in Different stakeholder\", fontsize = 12);\n"
   ]
  },
  {
   "cell_type": "markdown",
   "metadata": {},
   "source": [
    "** No of Twitter Users who are interested in FinTech are mostly Private Person or Business Representative;\n",
    "Policymakers and Expert Instittution have the Least Number of Fintech Interested Users. **"
   ]
  },
  {
   "cell_type": "code",
   "execution_count": 23,
   "metadata": {
    "collapsed": false
   },
   "outputs": [
    {
     "name": "stderr",
     "output_type": "stream",
     "text": [
      "/Library/Frameworks/Python.framework/Versions/3.5/lib/python3.5/site-packages/ipykernel/__main__.py:1: FutureWarning: sort(columns=....) is deprecated, use sort_values(by=.....)\n",
      "  if __name__ == '__main__':\n"
     ]
    },
    {
     "data": {
      "image/png": "[encoded data removed]",
      "text/plain": [
       "<matplotlib.figure.Figure at 0x112b35240>"
      ]
     },
     "metadata": {},
     "output_type": "display_data"
    }
   ],
   "source": [
    "stakeholder_count.sort(['Num_diff_locations'], ascending=False)['Num_diff_locations'].plot(kind='bar', title = \"Different Location: For each stakeholder\", fontsize = 12);\n"
   ]
  },
  {
   "cell_type": "markdown",
   "metadata": {},
   "source": [
    "** Fintech Interested Twitter Users come from various diffent location, but most diverse of that group is Private Person and Business Representatives and Least Diverse is Policymakers and Expert Institutions. **"
   ]
  },
  {
   "cell_type": "markdown",
   "metadata": {},
   "source": [
    "## Let's Analyse our Twitter Data with Time Period Perspective"
   ]
  },
  {
   "cell_type": "code",
   "execution_count": 24,
   "metadata": {
    "collapsed": false
   },
   "outputs": [
    {
     "name": "stdout",
     "output_type": "stream",
     "text": [
      "shape of the DataFrame:\n",
      " (349153, 10)\n"
     ]
    },
    {
     "data": {
      "text/html": [
       "<div>\n",
       "<table border=\"1\" class=\"dataframe\">\n",
       "  <thead>\n",
       "    <tr style=\"text-align: right;\">\n",
       "      <th></th>\n",
       "      <th>topic</th>\n",
       "      <th>tweet</th>\n",
       "      <th>user</th>\n",
       "      <th>date</th>\n",
       "      <th>description</th>\n",
       "      <th>location</th>\n",
       "      <th>followers</th>\n",
       "      <th>stakeholder</th>\n",
       "      <th>year</th>\n",
       "      <th>month</th>\n",
       "    </tr>\n",
       "  </thead>\n",
       "  <tbody>\n",
       "    <tr>\n",
       "      <th>0</th>\n",
       "      <td>Fintech</td>\n",
       "      <td>#bitcoin #fintech Fedcoin: The U.S. Will Issue...</td>\n",
       "      <td>Satoshinet_com</td>\n",
       "      <td>2017-01-12 17:14:10</td>\n",
       "      <td>#bitcoin #fintech Get Free BitCoin - BitCoin F...</td>\n",
       "      <td>Orlando, FL</td>\n",
       "      <td>\\N</td>\n",
       "      <td>Ambiguous</td>\n",
       "      <td>2017</td>\n",
       "      <td>1</td>\n",
       "    </tr>\n",
       "    <tr>\n",
       "      <th>1</th>\n",
       "      <td>Fintech</td>\n",
       "      <td>RT @guzmand: No one innovation is a silver bul...</td>\n",
       "      <td>anas_sulaimi</td>\n",
       "      <td>2017-01-12 17:14:12</td>\n",
       "      <td>GUtech Graduate #IT Consultant: #cybersecurity...</td>\n",
       "      <td>Muscat, Oman</td>\n",
       "      <td>\\N</td>\n",
       "      <td>Ambiguous</td>\n",
       "      <td>2017</td>\n",
       "      <td>1</td>\n",
       "    </tr>\n",
       "  </tbody>\n",
       "</table>\n",
       "</div>"
      ],
      "text/plain": [
       "     topic                                              tweet            user  \\\n",
       "0  Fintech  #bitcoin #fintech Fedcoin: The U.S. Will Issue...  Satoshinet_com   \n",
       "1  Fintech  RT @guzmand: No one innovation is a silver bul...    anas_sulaimi   \n",
       "\n",
       "                 date                                        description  \\\n",
       "0 2017-01-12 17:14:10  #bitcoin #fintech Get Free BitCoin - BitCoin F...   \n",
       "1 2017-01-12 17:14:12  GUtech Graduate #IT Consultant: #cybersecurity...   \n",
       "\n",
       "       location followers stakeholder  year  month  \n",
       "0   Orlando, FL        \\N   Ambiguous  2017      1  \n",
       "1  Muscat, Oman        \\N   Ambiguous  2017      1  "
      ]
     },
     "execution_count": 24,
     "metadata": {},
     "output_type": "execute_result"
    }
   ],
   "source": [
    "print('shape of the DataFrame:\\n',df.shape)\n",
    "df.head(2)"
   ]
  },
  {
   "cell_type": "code",
   "execution_count": 25,
   "metadata": {
    "collapsed": false
   },
   "outputs": [
    {
     "name": "stdout",
     "output_type": "stream",
     "text": [
      "Concerting our Date column to panda Date format ... It's the Time the user Tweeted ...\n"
     ]
    }
   ],
   "source": [
    "print(\"Concerting our Date column to panda Date format ... It's the Time the user Tweeted ...\")\n",
    "df.date = pd.to_datetime(df['date'])"
   ]
  },
  {
   "cell_type": "markdown",
   "metadata": {},
   "source": [
    "### Let's make our tweet time as the index of the data frame. It will be easier to visualise time based trends that way. "
   ]
  },
  {
   "cell_type": "code",
   "execution_count": 26,
   "metadata": {
    "collapsed": false
   },
   "outputs": [
    {
     "data": {
      "text/html": [
       "<div>\n",
       "<table border=\"1\" class=\"dataframe\">\n",
       "  <thead>\n",
       "    <tr style=\"text-align: right;\">\n",
       "      <th></th>\n",
       "      <th>topic</th>\n",
       "      <th>tweet</th>\n",
       "      <th>user</th>\n",
       "      <th>description</th>\n",
       "      <th>location</th>\n",
       "      <th>followers</th>\n",
       "      <th>stakeholder</th>\n",
       "      <th>year</th>\n",
       "      <th>month</th>\n",
       "    </tr>\n",
       "    <tr>\n",
       "      <th>date</th>\n",
       "      <th></th>\n",
       "      <th></th>\n",
       "      <th></th>\n",
       "      <th></th>\n",
       "      <th></th>\n",
       "      <th></th>\n",
       "      <th></th>\n",
       "      <th></th>\n",
       "      <th></th>\n",
       "    </tr>\n",
       "  </thead>\n",
       "  <tbody>\n",
       "    <tr>\n",
       "      <th>2017-01-12 17:14:10</th>\n",
       "      <td>Fintech</td>\n",
       "      <td>#bitcoin #fintech Fedcoin: The U.S. Will Issue...</td>\n",
       "      <td>Satoshinet_com</td>\n",
       "      <td>#bitcoin #fintech Get Free BitCoin - BitCoin F...</td>\n",
       "      <td>Orlando, FL</td>\n",
       "      <td>\\N</td>\n",
       "      <td>Ambiguous</td>\n",
       "      <td>2017</td>\n",
       "      <td>1</td>\n",
       "    </tr>\n",
       "    <tr>\n",
       "      <th>2017-01-12 17:14:12</th>\n",
       "      <td>Fintech</td>\n",
       "      <td>RT @guzmand: No one innovation is a silver bul...</td>\n",
       "      <td>anas_sulaimi</td>\n",
       "      <td>GUtech Graduate #IT Consultant: #cybersecurity...</td>\n",
       "      <td>Muscat, Oman</td>\n",
       "      <td>\\N</td>\n",
       "      <td>Ambiguous</td>\n",
       "      <td>2017</td>\n",
       "      <td>1</td>\n",
       "    </tr>\n",
       "  </tbody>\n",
       "</table>\n",
       "</div>"
      ],
      "text/plain": [
       "                       topic  \\\n",
       "date                           \n",
       "2017-01-12 17:14:10  Fintech   \n",
       "2017-01-12 17:14:12  Fintech   \n",
       "\n",
       "                                                                 tweet  \\\n",
       "date                                                                     \n",
       "2017-01-12 17:14:10  #bitcoin #fintech Fedcoin: The U.S. Will Issue...   \n",
       "2017-01-12 17:14:12  RT @guzmand: No one innovation is a silver bul...   \n",
       "\n",
       "                               user  \\\n",
       "date                                  \n",
       "2017-01-12 17:14:10  Satoshinet_com   \n",
       "2017-01-12 17:14:12    anas_sulaimi   \n",
       "\n",
       "                                                           description  \\\n",
       "date                                                                     \n",
       "2017-01-12 17:14:10  #bitcoin #fintech Get Free BitCoin - BitCoin F...   \n",
       "2017-01-12 17:14:12  GUtech Graduate #IT Consultant: #cybersecurity...   \n",
       "\n",
       "                         location followers stakeholder  year  month  \n",
       "date                                                                  \n",
       "2017-01-12 17:14:10   Orlando, FL        \\N   Ambiguous  2017      1  \n",
       "2017-01-12 17:14:12  Muscat, Oman        \\N   Ambiguous  2017      1  "
      ]
     },
     "execution_count": 26,
     "metadata": {},
     "output_type": "execute_result"
    }
   ],
   "source": [
    "df = df.set_index(['date'])\n",
    "df.head(2)\n"
   ]
  },
  {
   "cell_type": "markdown",
   "metadata": {},
   "source": [
    "Let's collapse the DataFrame by time and generate plots of number of tweets over different timeperiod.\n",
    "I will be using groupby command to make a new data frame"
   ]
  },
  {
   "cell_type": "code",
   "execution_count": 27,
   "metadata": {
    "collapsed": false
   },
   "outputs": [
    {
     "data": {
      "text/html": [
       "<div>\n",
       "<table border=\"1\" class=\"dataframe\">\n",
       "  <thead>\n",
       "    <tr style=\"text-align: right;\">\n",
       "      <th></th>\n",
       "      <th>topic</th>\n",
       "      <th>tweet</th>\n",
       "      <th>user</th>\n",
       "      <th>description</th>\n",
       "      <th>location</th>\n",
       "      <th>followers</th>\n",
       "      <th>stakeholder</th>\n",
       "      <th>year</th>\n",
       "      <th>month</th>\n",
       "    </tr>\n",
       "    <tr>\n",
       "      <th>date</th>\n",
       "      <th></th>\n",
       "      <th></th>\n",
       "      <th></th>\n",
       "      <th></th>\n",
       "      <th></th>\n",
       "      <th></th>\n",
       "      <th></th>\n",
       "      <th></th>\n",
       "      <th></th>\n",
       "    </tr>\n",
       "  </thead>\n",
       "  <tbody>\n",
       "    <tr>\n",
       "      <th>2017-01-12 17:14:10</th>\n",
       "      <td>Fintech</td>\n",
       "      <td>#bitcoin #fintech Fedcoin: The U.S. Will Issue...</td>\n",
       "      <td>Satoshinet_com</td>\n",
       "      <td>#bitcoin #fintech Get Free BitCoin - BitCoin F...</td>\n",
       "      <td>Orlando, FL</td>\n",
       "      <td>\\N</td>\n",
       "      <td>Ambiguous</td>\n",
       "      <td>2017</td>\n",
       "      <td>1</td>\n",
       "    </tr>\n",
       "    <tr>\n",
       "      <th>2017-01-12 17:14:12</th>\n",
       "      <td>Fintech</td>\n",
       "      <td>RT @guzmand: No one innovation is a silver bul...</td>\n",
       "      <td>anas_sulaimi</td>\n",
       "      <td>GUtech Graduate #IT Consultant: #cybersecurity...</td>\n",
       "      <td>Muscat, Oman</td>\n",
       "      <td>\\N</td>\n",
       "      <td>Ambiguous</td>\n",
       "      <td>2017</td>\n",
       "      <td>1</td>\n",
       "    </tr>\n",
       "    <tr>\n",
       "      <th>2017-01-12 17:14:12</th>\n",
       "      <td>Fintech</td>\n",
       "      <td>How Smart Contracts Are Changing Financial Ser...</td>\n",
       "      <td>bitcoinagile</td>\n",
       "      <td>Streaming News: Bitcoin, Blockchain &amp; Beyond #...</td>\n",
       "      <td>Matter Doesn't Matter</td>\n",
       "      <td>\\N</td>\n",
       "      <td>Media</td>\n",
       "      <td>2017</td>\n",
       "      <td>1</td>\n",
       "    </tr>\n",
       "    <tr>\n",
       "      <th>2017-01-12 17:14:19</th>\n",
       "      <td>Fintech</td>\n",
       "      <td>Satoshium Project Announced &amp;amp; White Paper ...</td>\n",
       "      <td>satoshiumorg</td>\n",
       "      <td>Minted Bitcoin</td>\n",
       "      <td>Santa Monica, CA</td>\n",
       "      <td>\\N</td>\n",
       "      <td>Ambiguous</td>\n",
       "      <td>2017</td>\n",
       "      <td>1</td>\n",
       "    </tr>\n",
       "    <tr>\n",
       "      <th>2017-01-12 17:14:26</th>\n",
       "      <td>Fintech</td>\n",
       "      <td>RT @sdubois: NYSE to allow all US listed secur...</td>\n",
       "      <td>BelieRxbelle</td>\n",
       "      <td>#Lovatic. #TeamBreezy. Musty mouthed Thot Bots...</td>\n",
       "      <td>Chicago</td>\n",
       "      <td>\\N</td>\n",
       "      <td>Ambiguous</td>\n",
       "      <td>2017</td>\n",
       "      <td>1</td>\n",
       "    </tr>\n",
       "  </tbody>\n",
       "</table>\n",
       "</div>"
      ],
      "text/plain": [
       "                       topic  \\\n",
       "date                           \n",
       "2017-01-12 17:14:10  Fintech   \n",
       "2017-01-12 17:14:12  Fintech   \n",
       "2017-01-12 17:14:12  Fintech   \n",
       "2017-01-12 17:14:19  Fintech   \n",
       "2017-01-12 17:14:26  Fintech   \n",
       "\n",
       "                                                                 tweet  \\\n",
       "date                                                                     \n",
       "2017-01-12 17:14:10  #bitcoin #fintech Fedcoin: The U.S. Will Issue...   \n",
       "2017-01-12 17:14:12  RT @guzmand: No one innovation is a silver bul...   \n",
       "2017-01-12 17:14:12  How Smart Contracts Are Changing Financial Ser...   \n",
       "2017-01-12 17:14:19  Satoshium Project Announced &amp; White Paper ...   \n",
       "2017-01-12 17:14:26  RT @sdubois: NYSE to allow all US listed secur...   \n",
       "\n",
       "                               user  \\\n",
       "date                                  \n",
       "2017-01-12 17:14:10  Satoshinet_com   \n",
       "2017-01-12 17:14:12    anas_sulaimi   \n",
       "2017-01-12 17:14:12    bitcoinagile   \n",
       "2017-01-12 17:14:19    satoshiumorg   \n",
       "2017-01-12 17:14:26    BelieRxbelle   \n",
       "\n",
       "                                                           description  \\\n",
       "date                                                                     \n",
       "2017-01-12 17:14:10  #bitcoin #fintech Get Free BitCoin - BitCoin F...   \n",
       "2017-01-12 17:14:12  GUtech Graduate #IT Consultant: #cybersecurity...   \n",
       "2017-01-12 17:14:12  Streaming News: Bitcoin, Blockchain & Beyond #...   \n",
       "2017-01-12 17:14:19                                     Minted Bitcoin   \n",
       "2017-01-12 17:14:26  #Lovatic. #TeamBreezy. Musty mouthed Thot Bots...   \n",
       "\n",
       "                                  location followers stakeholder  year  month  \n",
       "date                                                                           \n",
       "2017-01-12 17:14:10            Orlando, FL        \\N   Ambiguous  2017      1  \n",
       "2017-01-12 17:14:12           Muscat, Oman        \\N   Ambiguous  2017      1  \n",
       "2017-01-12 17:14:12  Matter Doesn't Matter        \\N       Media  2017      1  \n",
       "2017-01-12 17:14:19       Santa Monica, CA        \\N   Ambiguous  2017      1  \n",
       "2017-01-12 17:14:26               Chicago         \\N   Ambiguous  2017      1  "
      ]
     },
     "execution_count": 27,
     "metadata": {},
     "output_type": "execute_result"
    }
   ],
   "source": [
    "df.head()"
   ]
  },
  {
   "cell_type": "code",
   "execution_count": 28,
   "metadata": {
    "collapsed": true
   },
   "outputs": [],
   "source": [
    "def t(x):\n",
    "     return pd.Series(dict(Number_of_tweets = x['tweet'].count()))"
   ]
  },
  {
   "cell_type": "code",
   "execution_count": 29,
   "metadata": {
    "collapsed": false
   },
   "outputs": [
    {
     "name": "stdout",
     "output_type": "stream",
     "text": [
      "58\n"
     ]
    },
    {
     "data": {
      "text/html": [
       "<div>\n",
       "<table border=\"1\" class=\"dataframe\">\n",
       "  <thead>\n",
       "    <tr style=\"text-align: right;\">\n",
       "      <th></th>\n",
       "      <th>Number_of_tweets</th>\n",
       "    </tr>\n",
       "  </thead>\n",
       "  <tbody>\n",
       "    <tr>\n",
       "      <th>2017-01-12</th>\n",
       "      <td>1663</td>\n",
       "    </tr>\n",
       "    <tr>\n",
       "      <th>2017-01-13</th>\n",
       "      <td>6807</td>\n",
       "    </tr>\n",
       "  </tbody>\n",
       "</table>\n",
       "</div>"
      ],
      "text/plain": [
       "            Number_of_tweets\n",
       "2017-01-12              1663\n",
       "2017-01-13              6807"
      ]
     },
     "execution_count": 29,
     "metadata": {},
     "output_type": "execute_result"
    }
   ],
   "source": [
    "daily_count = df.groupby(df.index.date).apply(t)\n",
    "print(len(daily_count))\n",
    "daily_count.head(2)"
   ]
  },
  {
   "cell_type": "code",
   "execution_count": 30,
   "metadata": {
    "collapsed": false
   },
   "outputs": [
    {
     "data": {
      "text/html": [
       "<div>\n",
       "<table border=\"1\" class=\"dataframe\">\n",
       "  <thead>\n",
       "    <tr style=\"text-align: right;\">\n",
       "      <th></th>\n",
       "      <th>Number_of_tweets</th>\n",
       "    </tr>\n",
       "    <tr>\n",
       "      <th>Date</th>\n",
       "      <th></th>\n",
       "    </tr>\n",
       "  </thead>\n",
       "  <tbody>\n",
       "    <tr>\n",
       "      <th>2017-01-12</th>\n",
       "      <td>1663</td>\n",
       "    </tr>\n",
       "    <tr>\n",
       "      <th>2017-01-13</th>\n",
       "      <td>6807</td>\n",
       "    </tr>\n",
       "  </tbody>\n",
       "</table>\n",
       "</div>"
      ],
      "text/plain": [
       "            Number_of_tweets\n",
       "Date                        \n",
       "2017-01-12              1663\n",
       "2017-01-13              6807"
      ]
     },
     "execution_count": 30,
     "metadata": {},
     "output_type": "execute_result"
    }
   ],
   "source": [
    "daily_count.index.name = 'Date'\n",
    "daily_count.head(2)"
   ]
  },
  {
   "cell_type": "markdown",
   "metadata": {},
   "source": [
    "### Let's plot this to get insight about Fintech Tweet Activity"
   ]
  },
  {
   "cell_type": "code",
   "execution_count": null,
   "metadata": {
    "collapsed": false
   },
   "outputs": [],
   "source": []
  },
  {
   "cell_type": "code",
   "execution_count": 31,
   "metadata": {
    "collapsed": false
   },
   "outputs": [
    {
     "data": {
      "image/png": "[encoded data removed]",
      "text/plain": [
       "<matplotlib.figure.Figure at 0x1147cc438>"
      ]
     },
     "metadata": {},
     "output_type": "display_data"
    }
   ],
   "source": [
    "daily_plot = daily_count['Number_of_tweets'].plot(kind='line', lw=1, alpha=0.9, legend=True, x_compat=True);\n",
    "\n",
    "daily_plot.set_xlabel('Month', weight='bold', labelpad=15);    #SET X-AXIS LABEL; ADD PADDING TO TOP OF LABEL\n",
    "daily_plot.set_ylabel('# Tweets (No of Fintech Messages)', weight='bold', labelpad=15); #SET Y-AXIS LABEL; ADD PADDING TO RIGHT OF LABEL\n",
    "\n",
    "plt.xticks(fontsize = 9, rotation = -30, ha =\"left\");  #SET FONT PROPERTIES OF X-AXIS TICK LABELS\n",
    "plt.yticks(fontsize = 9);                              #SET FONT PROPERTIES OF Y-AXIS TICK LABELS\n",
    "\n",
    "daily_plot.legend_ = None;\n",
    "daily_plot.tick_params(axis='x', pad=5); #SET PADDING ABOVE X-AXIS LABELS\n",
    "\n",
    "#plt.savefig('daily counts.png', bbox_inches='tight', dpi=300, format='png') "
   ]
  },
  {
   "cell_type": "markdown",
   "metadata": {},
   "source": [
    "** Isn't is surprising that people Were more interted in FinTech in February & March Month. May be Looking for new place\n",
    "to Invest in March. **"
   ]
  },
  {
   "cell_type": "code",
   "execution_count": 32,
   "metadata": {
    "collapsed": false
   },
   "outputs": [
    {
     "name": "stdout",
     "output_type": "stream",
     "text": [
      "7\n"
     ]
    },
    {
     "data": {
      "text/html": [
       "<div>\n",
       "<table border=\"1\" class=\"dataframe\">\n",
       "  <thead>\n",
       "    <tr style=\"text-align: right;\">\n",
       "      <th></th>\n",
       "      <th>Number_of_tweets</th>\n",
       "    </tr>\n",
       "  </thead>\n",
       "  <tbody>\n",
       "    <tr>\n",
       "      <th>0</th>\n",
       "      <td>54109</td>\n",
       "    </tr>\n",
       "    <tr>\n",
       "      <th>1</th>\n",
       "      <td>55539</td>\n",
       "    </tr>\n",
       "    <tr>\n",
       "      <th>2</th>\n",
       "      <td>58719</td>\n",
       "    </tr>\n",
       "    <tr>\n",
       "      <th>3</th>\n",
       "      <td>56092</td>\n",
       "    </tr>\n",
       "    <tr>\n",
       "      <th>4</th>\n",
       "      <td>52713</td>\n",
       "    </tr>\n",
       "    <tr>\n",
       "      <th>5</th>\n",
       "      <td>34814</td>\n",
       "    </tr>\n",
       "    <tr>\n",
       "      <th>6</th>\n",
       "      <td>37167</td>\n",
       "    </tr>\n",
       "  </tbody>\n",
       "</table>\n",
       "</div>"
      ],
      "text/plain": [
       "   Number_of_tweets\n",
       "0             54109\n",
       "1             55539\n",
       "2             58719\n",
       "3             56092\n",
       "4             52713\n",
       "5             34814\n",
       "6             37167"
      ]
     },
     "execution_count": 32,
     "metadata": {},
     "output_type": "execute_result"
    }
   ],
   "source": [
    "## Let's calculate and predict NO of tweets Per day of the week\n",
    "weekday_count = df.groupby(df.index.weekday).apply(t)\n",
    "print(len(weekday_count))\n",
    "weekday_count\n"
   ]
  },
  {
   "cell_type": "code",
   "execution_count": 33,
   "metadata": {
    "collapsed": false
   },
   "outputs": [
    {
     "data": {
      "text/html": [
       "<div>\n",
       "<table border=\"1\" class=\"dataframe\">\n",
       "  <thead>\n",
       "    <tr style=\"text-align: right;\">\n",
       "      <th></th>\n",
       "      <th>Number_of_tweets</th>\n",
       "      <th>day</th>\n",
       "    </tr>\n",
       "  </thead>\n",
       "  <tbody>\n",
       "    <tr>\n",
       "      <th>0</th>\n",
       "      <td>54109</td>\n",
       "      <td>Monday</td>\n",
       "    </tr>\n",
       "    <tr>\n",
       "      <th>1</th>\n",
       "      <td>55539</td>\n",
       "      <td>Tuesday</td>\n",
       "    </tr>\n",
       "    <tr>\n",
       "      <th>2</th>\n",
       "      <td>58719</td>\n",
       "      <td>Wednesday</td>\n",
       "    </tr>\n",
       "    <tr>\n",
       "      <th>3</th>\n",
       "      <td>56092</td>\n",
       "      <td>Thursday</td>\n",
       "    </tr>\n",
       "    <tr>\n",
       "      <th>4</th>\n",
       "      <td>52713</td>\n",
       "      <td>Friday</td>\n",
       "    </tr>\n",
       "    <tr>\n",
       "      <th>5</th>\n",
       "      <td>34814</td>\n",
       "      <td>Saturday</td>\n",
       "    </tr>\n",
       "    <tr>\n",
       "      <th>6</th>\n",
       "      <td>37167</td>\n",
       "      <td>Sunday</td>\n",
       "    </tr>\n",
       "  </tbody>\n",
       "</table>\n",
       "</div>"
      ],
      "text/plain": [
       "   Number_of_tweets        day\n",
       "0             54109     Monday\n",
       "1             55539    Tuesday\n",
       "2             58719  Wednesday\n",
       "3             56092   Thursday\n",
       "4             52713     Friday\n",
       "5             34814   Saturday\n",
       "6             37167     Sunday"
      ]
     },
     "execution_count": 33,
     "metadata": {},
     "output_type": "execute_result"
    }
   ],
   "source": [
    "days = ['Monday', 'Tuesday', 'Wednesday', 'Thursday', 'Friday', 'Saturday', 'Sunday']\n",
    "weekday_count['day'] = days\n",
    "weekday_count"
   ]
  },
  {
   "cell_type": "code",
   "execution_count": 34,
   "metadata": {
    "collapsed": true
   },
   "outputs": [],
   "source": [
    "#Can be done by this code too, but above one is better and easy to remeber\n",
    "#print(\"let's get it by Weekday Name . . .\")\n",
    "#weekday_name_count = df.groupby(df.index.weekday_name).apply(t)\n",
    "#print(len(weekday_name_count))\n",
    "#weekday_name_count"
   ]
  },
  {
   "cell_type": "code",
   "execution_count": 35,
   "metadata": {
    "collapsed": false
   },
   "outputs": [
    {
     "data": {
      "image/png": "[encoded data removed]",
      "text/plain": [
       "<matplotlib.figure.Figure at 0x1133ee588>"
      ]
     },
     "metadata": {},
     "output_type": "display_data"
    }
   ],
   "source": [
    "day_of_week_plot = weekday_count['Number_of_tweets'].plot(kind='bar', title = \"No of Tweets On each WeekDay\");\n",
    "plt.xticks(np.arange(7), weekday_count['day'], rotation = 0, fontsize = 9);"
   ]
  },
  {
   "cell_type": "markdown",
   "metadata": {},
   "source": [
    "** Another Great Insight: More Tweet about Fintech on Weekdays, weekends are for more lighter stuff...**"
   ]
  },
  {
   "cell_type": "code",
   "execution_count": 36,
   "metadata": {
    "collapsed": false
   },
   "outputs": [
    {
     "name": "stdout",
     "output_type": "stream",
     "text": [
      "calculating No of Tweets Each Hour the day... Little patience sir, I almost there!\n",
      "Total No of Hours:\n",
      " 24\n"
     ]
    },
    {
     "data": {
      "text/html": [
       "<div>\n",
       "<table border=\"1\" class=\"dataframe\">\n",
       "  <thead>\n",
       "    <tr style=\"text-align: right;\">\n",
       "      <th></th>\n",
       "      <th>Number_of_tweets</th>\n",
       "    </tr>\n",
       "    <tr>\n",
       "      <th>Hour</th>\n",
       "      <th></th>\n",
       "    </tr>\n",
       "  </thead>\n",
       "  <tbody>\n",
       "    <tr>\n",
       "      <th>0</th>\n",
       "      <td>11188</td>\n",
       "    </tr>\n",
       "    <tr>\n",
       "      <th>1</th>\n",
       "      <td>9632</td>\n",
       "    </tr>\n",
       "    <tr>\n",
       "      <th>2</th>\n",
       "      <td>9722</td>\n",
       "    </tr>\n",
       "    <tr>\n",
       "      <th>3</th>\n",
       "      <td>9976</td>\n",
       "    </tr>\n",
       "    <tr>\n",
       "      <th>4</th>\n",
       "      <td>9317</td>\n",
       "    </tr>\n",
       "    <tr>\n",
       "      <th>5</th>\n",
       "      <td>9791</td>\n",
       "    </tr>\n",
       "    <tr>\n",
       "      <th>6</th>\n",
       "      <td>11466</td>\n",
       "    </tr>\n",
       "    <tr>\n",
       "      <th>7</th>\n",
       "      <td>12402</td>\n",
       "    </tr>\n",
       "    <tr>\n",
       "      <th>8</th>\n",
       "      <td>14870</td>\n",
       "    </tr>\n",
       "    <tr>\n",
       "      <th>9</th>\n",
       "      <td>16370</td>\n",
       "    </tr>\n",
       "    <tr>\n",
       "      <th>10</th>\n",
       "      <td>16203</td>\n",
       "    </tr>\n",
       "    <tr>\n",
       "      <th>11</th>\n",
       "      <td>17976</td>\n",
       "    </tr>\n",
       "    <tr>\n",
       "      <th>12</th>\n",
       "      <td>19507</td>\n",
       "    </tr>\n",
       "    <tr>\n",
       "      <th>13</th>\n",
       "      <td>20643</td>\n",
       "    </tr>\n",
       "    <tr>\n",
       "      <th>14</th>\n",
       "      <td>23057</td>\n",
       "    </tr>\n",
       "    <tr>\n",
       "      <th>15</th>\n",
       "      <td>21089</td>\n",
       "    </tr>\n",
       "    <tr>\n",
       "      <th>16</th>\n",
       "      <td>18576</td>\n",
       "    </tr>\n",
       "    <tr>\n",
       "      <th>17</th>\n",
       "      <td>18328</td>\n",
       "    </tr>\n",
       "    <tr>\n",
       "      <th>18</th>\n",
       "      <td>15700</td>\n",
       "    </tr>\n",
       "    <tr>\n",
       "      <th>19</th>\n",
       "      <td>14094</td>\n",
       "    </tr>\n",
       "    <tr>\n",
       "      <th>20</th>\n",
       "      <td>13828</td>\n",
       "    </tr>\n",
       "    <tr>\n",
       "      <th>21</th>\n",
       "      <td>13086</td>\n",
       "    </tr>\n",
       "    <tr>\n",
       "      <th>22</th>\n",
       "      <td>11825</td>\n",
       "    </tr>\n",
       "    <tr>\n",
       "      <th>23</th>\n",
       "      <td>10507</td>\n",
       "    </tr>\n",
       "  </tbody>\n",
       "</table>\n",
       "</div>"
      ],
      "text/plain": [
       "      Number_of_tweets\n",
       "Hour                  \n",
       "0                11188\n",
       "1                 9632\n",
       "2                 9722\n",
       "3                 9976\n",
       "4                 9317\n",
       "5                 9791\n",
       "6                11466\n",
       "7                12402\n",
       "8                14870\n",
       "9                16370\n",
       "10               16203\n",
       "11               17976\n",
       "12               19507\n",
       "13               20643\n",
       "14               23057\n",
       "15               21089\n",
       "16               18576\n",
       "17               18328\n",
       "18               15700\n",
       "19               14094\n",
       "20               13828\n",
       "21               13086\n",
       "22               11825\n",
       "23               10507"
      ]
     },
     "execution_count": 36,
     "metadata": {},
     "output_type": "execute_result"
    }
   ],
   "source": [
    "# Let's make another dataset for hour of the day count\n",
    "print(\"calculating No of Tweets Each Hour the day... Little patience sir, I almost there!\")\n",
    "hourly_count = df.groupby(df.index.hour).apply(t)\n",
    "print(\"Total No of Hours:\\n\",len(hourly_count))\n",
    "hourly_count.index.name = \"Hour\"\n",
    "hourly_count"
   ]
  },
  {
   "cell_type": "code",
   "execution_count": 37,
   "metadata": {
    "collapsed": false
   },
   "outputs": [
    {
     "data": {
      "image/png": "[encoded data removed]",
      "text/plain": [
       "<matplotlib.figure.Figure at 0x1148d9e10>"
      ]
     },
     "metadata": {},
     "output_type": "display_data"
    }
   ],
   "source": [
    "#plt.rcParams['figure.figsize'] = (10,8)\n",
    "\n",
    "hourly_plot = hourly_count['Number_of_tweets'].plot(kind='line');\n",
    "hours = list(range(1,25));                                                #GENERATE LIST FROM 1 TO 24\n",
    "plt.xticks(np.arange(24), hours, rotation = 0,fontsize = 12);                  #USE THE CUSTOM TICKS\n",
    "\n",
    "hourly_plot.set_xlabel('Hour of the Day', weight='bold', labelpad=15);     #SET X-AXIS LABEL, ADD PADDING TO TOP OF X-AXIS LABEL\n",
    "hourly_plot.set_ylabel('# Tweets (Total Number of Tweets Each Hour)', weight='bold', labelpad=15); #SET Y-AXIS LABEL, ADD PADDING TO RIGHT OF Y-AXIS LABEL\n",
    "\n",
    "#savefig('hourly counts - line graph.png', bbox_inches='tight', dpi=300, format='png')"
   ]
  },
  {
   "cell_type": "markdown",
   "metadata": {},
   "source": [
    "** So, Tweeples are Tweeting about FinTech more in the evening and most at 3:00pm, but they are tweeting all the time.\n",
    "    Don't they sleep.**"
   ]
  },
  {
   "cell_type": "code",
   "execution_count": 38,
   "metadata": {
    "collapsed": false
   },
   "outputs": [
    {
     "data": {
      "image/png": "[encoded data removed]",
      "text/plain": [
       "<matplotlib.figure.Figure at 0x1147e39b0>"
      ]
     },
     "metadata": {},
     "output_type": "display_data"
    }
   ],
   "source": [
    "plt.rcParams['figure.figsize'] = (10,8)\n",
    "\n",
    "hourly_plot = hourly_count['Number_of_tweets'].plot(kind='bar', title = \"BarPlot for No of Tweets each H0ur\");\n",
    "hours = list(range(1,25));                                                #GENERATE LIST FROM 1 TO 24\n",
    "plt.xticks(np.arange(24), hours, rotation = 0,fontsize = 12);                  #USE THE CUSTOM TICKS\n",
    "\n",
    "hourly_plot.set_xlabel('Hour of the Day', weight='bold', labelpad=15);     #SET X-AXIS LABEL, ADD PADDING TO TOP OF X-AXIS LABEL\n",
    "hourly_plot.set_ylabel('# Tweets (Total Number of Tweets Each Hour)', weight='bold', labelpad=15); #SET Y-AXIS LABEL, ADD PADDING TO RIGHT OF Y-AXIS LABEL\n"
   ]
  },
  {
   "cell_type": "markdown",
   "metadata": {},
   "source": [
    "## Let's make a monthly Count Plots: What month Tweeples like FinTech Most"
   ]
  },
  {
   "cell_type": "code",
   "execution_count": 39,
   "metadata": {
    "collapsed": false
   },
   "outputs": [
    {
     "name": "stdout",
     "output_type": "stream",
     "text": [
      "calculating No of Tweets Each Month... Little patience sir, I almost there!\n",
      "We have Data for 3 Months only.\n"
     ]
    },
    {
     "data": {
      "text/html": [
       "<div>\n",
       "<table border=\"1\" class=\"dataframe\">\n",
       "  <thead>\n",
       "    <tr style=\"text-align: right;\">\n",
       "      <th></th>\n",
       "      <th>Number_of_tweets</th>\n",
       "    </tr>\n",
       "    <tr>\n",
       "      <th>Month</th>\n",
       "      <th></th>\n",
       "    </tr>\n",
       "  </thead>\n",
       "  <tbody>\n",
       "    <tr>\n",
       "      <th>1</th>\n",
       "      <td>115071</td>\n",
       "    </tr>\n",
       "    <tr>\n",
       "      <th>2</th>\n",
       "      <td>168974</td>\n",
       "    </tr>\n",
       "    <tr>\n",
       "      <th>3</th>\n",
       "      <td>65108</td>\n",
       "    </tr>\n",
       "  </tbody>\n",
       "</table>\n",
       "</div>"
      ],
      "text/plain": [
       "       Number_of_tweets\n",
       "Month                  \n",
       "1                115071\n",
       "2                168974\n",
       "3                 65108"
      ]
     },
     "execution_count": 39,
     "metadata": {},
     "output_type": "execute_result"
    }
   ],
   "source": [
    "monthly_count = df.groupby(df.index.month).apply(t)\n",
    "\n",
    "print(\"calculating No of Tweets Each Month... Little patience sir, I almost there!\")\n",
    "print(\"We have Data for %s Months only.\" %len(monthly_count))\n",
    "\n",
    "monthly_count.index.name = \"Month\"\n",
    "\n",
    "monthly_count"
   ]
  },
  {
   "cell_type": "code",
   "execution_count": 40,
   "metadata": {
    "collapsed": false
   },
   "outputs": [
    {
     "data": {
      "image/png": "[encoded data removed]",
      "text/plain": [
       "<matplotlib.figure.Figure at 0x114911668>"
      ]
     },
     "metadata": {},
     "output_type": "display_data"
    }
   ],
   "source": [
    "monthly_plot = monthly_count['Number_of_tweets'].plot(kind='bar');\n",
    "\n",
    "months_name = ['January', 'February', 'March'];\n",
    "plt.xticks(np.arange(12), months_name, rotation = -30,fontsize = 9);                  #USE THE CUSTOM TICKS\n",
    "\n",
    "monthly_plot.set_xlabel('Month of the Year', weight='bold', labelpad=15);  #SET X-AXIS LABEL, ADD PADDING TO TOP OF X-AXIS LABEL\n",
    "monthly_plot.set_ylabel('# Tweets (Messages)', weight='bold', labelpad=15); #SET Y-AXIS LABEL, ADD PADDING TO RIGHT OF Y-AXIS LABEL                                                     #SET FONT SIZE FOR Y-AXIS TICK LABELS\n",
    "daily_plot.tick_params(axis='x', pad=5);                                   #SET PADDING ABOVE X-AXIS LABELS\n",
    "\n",
    "#daily_plot.legend_ = None;                                                 #TURN OFF LEGEND\n",
    "\n",
    "#savefig('monthly counts - bar graph.png', bbox_inches='tight', dpi=300, format='png')\n"
   ]
  },
  {
   "cell_type": "markdown",
   "metadata": {},
   "source": [
    "** More Fintech Tweets in February, If Fintech and Spring related Somehow! **"
   ]
  },
  {
   "cell_type": "markdown",
   "metadata": {},
   "source": [
    "*** We can do the same for Minutes as well as Second (Really that would be a huge number) ***"
   ]
  },
  {
   "cell_type": "markdown",
   "metadata": {},
   "source": [
    "# Let's Do someWork on Hashtags: What exactly Tweeples like about FinTech"
   ]
  },
  {
   "cell_type": "code",
   "execution_count": 41,
   "metadata": {
    "collapsed": false
   },
   "outputs": [
    {
     "data": {
      "text/html": [
       "<div>\n",
       "<table border=\"1\" class=\"dataframe\">\n",
       "  <thead>\n",
       "    <tr style=\"text-align: right;\">\n",
       "      <th></th>\n",
       "      <th>topic</th>\n",
       "      <th>tweet</th>\n",
       "      <th>user</th>\n",
       "      <th>description</th>\n",
       "      <th>location</th>\n",
       "      <th>followers</th>\n",
       "      <th>stakeholder</th>\n",
       "      <th>year</th>\n",
       "      <th>month</th>\n",
       "    </tr>\n",
       "    <tr>\n",
       "      <th>date</th>\n",
       "      <th></th>\n",
       "      <th></th>\n",
       "      <th></th>\n",
       "      <th></th>\n",
       "      <th></th>\n",
       "      <th></th>\n",
       "      <th></th>\n",
       "      <th></th>\n",
       "      <th></th>\n",
       "    </tr>\n",
       "  </thead>\n",
       "  <tbody>\n",
       "    <tr>\n",
       "      <th>2017-01-12 17:14:10</th>\n",
       "      <td>Fintech</td>\n",
       "      <td>#bitcoin #fintech Fedcoin: The U.S. Will Issue...</td>\n",
       "      <td>Satoshinet_com</td>\n",
       "      <td>#bitcoin #fintech Get Free BitCoin - BitCoin F...</td>\n",
       "      <td>Orlando, FL</td>\n",
       "      <td>\\N</td>\n",
       "      <td>Ambiguous</td>\n",
       "      <td>2017</td>\n",
       "      <td>1</td>\n",
       "    </tr>\n",
       "    <tr>\n",
       "      <th>2017-01-12 17:14:12</th>\n",
       "      <td>Fintech</td>\n",
       "      <td>RT @guzmand: No one innovation is a silver bul...</td>\n",
       "      <td>anas_sulaimi</td>\n",
       "      <td>GUtech Graduate #IT Consultant: #cybersecurity...</td>\n",
       "      <td>Muscat, Oman</td>\n",
       "      <td>\\N</td>\n",
       "      <td>Ambiguous</td>\n",
       "      <td>2017</td>\n",
       "      <td>1</td>\n",
       "    </tr>\n",
       "  </tbody>\n",
       "</table>\n",
       "</div>"
      ],
      "text/plain": [
       "                       topic  \\\n",
       "date                           \n",
       "2017-01-12 17:14:10  Fintech   \n",
       "2017-01-12 17:14:12  Fintech   \n",
       "\n",
       "                                                                 tweet  \\\n",
       "date                                                                     \n",
       "2017-01-12 17:14:10  #bitcoin #fintech Fedcoin: The U.S. Will Issue...   \n",
       "2017-01-12 17:14:12  RT @guzmand: No one innovation is a silver bul...   \n",
       "\n",
       "                               user  \\\n",
       "date                                  \n",
       "2017-01-12 17:14:10  Satoshinet_com   \n",
       "2017-01-12 17:14:12    anas_sulaimi   \n",
       "\n",
       "                                                           description  \\\n",
       "date                                                                     \n",
       "2017-01-12 17:14:10  #bitcoin #fintech Get Free BitCoin - BitCoin F...   \n",
       "2017-01-12 17:14:12  GUtech Graduate #IT Consultant: #cybersecurity...   \n",
       "\n",
       "                         location followers stakeholder  year  month  \n",
       "date                                                                  \n",
       "2017-01-12 17:14:10   Orlando, FL        \\N   Ambiguous  2017      1  \n",
       "2017-01-12 17:14:12  Muscat, Oman        \\N   Ambiguous  2017      1  "
      ]
     },
     "execution_count": 41,
     "metadata": {},
     "output_type": "execute_result"
    }
   ],
   "source": [
    "df.head(2)\n"
   ]
  },
  {
   "cell_type": "code",
   "execution_count": 42,
   "metadata": {
    "collapsed": false
   },
   "outputs": [
    {
     "name": "stdout",
     "output_type": "stream",
     "text": [
      "Loading the Original Provided Pure DataFrame...Its Big!\n",
      "Showing you First two rows ... \n"
     ]
    },
    {
     "data": {
      "text/html": [
       "<div>\n",
       "<table border=\"1\" class=\"dataframe\">\n",
       "  <thead>\n",
       "    <tr style=\"text-align: right;\">\n",
       "      <th></th>\n",
       "      <th>topic</th>\n",
       "      <th>tweet</th>\n",
       "      <th>user</th>\n",
       "      <th>date</th>\n",
       "      <th>description</th>\n",
       "      <th>location</th>\n",
       "      <th>followers</th>\n",
       "      <th>stakeholder</th>\n",
       "    </tr>\n",
       "  </thead>\n",
       "  <tbody>\n",
       "    <tr>\n",
       "      <th>0</th>\n",
       "      <td>Fintech</td>\n",
       "      <td>#bitcoin #fintech Fedcoin: The U.S. Will Issue...</td>\n",
       "      <td>Satoshinet_com</td>\n",
       "      <td>Thu Jan 12 17:14:10 +0000 2017</td>\n",
       "      <td>#bitcoin #fintech Get Free BitCoin - BitCoin F...</td>\n",
       "      <td>Orlando, FL</td>\n",
       "      <td>\\N</td>\n",
       "      <td>Ambiguous</td>\n",
       "    </tr>\n",
       "    <tr>\n",
       "      <th>1</th>\n",
       "      <td>Fintech</td>\n",
       "      <td>RT @guzmand: No one innovation is a silver bul...</td>\n",
       "      <td>anas_sulaimi</td>\n",
       "      <td>Thu Jan 12 17:14:12 +0000 2017</td>\n",
       "      <td>GUtech Graduate #IT Consultant: #cybersecurity...</td>\n",
       "      <td>Muscat, Oman</td>\n",
       "      <td>\\N</td>\n",
       "      <td>Ambiguous</td>\n",
       "    </tr>\n",
       "  </tbody>\n",
       "</table>\n",
       "</div>"
      ],
      "text/plain": [
       "     topic                                              tweet            user  \\\n",
       "0  Fintech  #bitcoin #fintech Fedcoin: The U.S. Will Issue...  Satoshinet_com   \n",
       "1  Fintech  RT @guzmand: No one innovation is a silver bul...    anas_sulaimi   \n",
       "\n",
       "                             date  \\\n",
       "0  Thu Jan 12 17:14:10 +0000 2017   \n",
       "1  Thu Jan 12 17:14:12 +0000 2017   \n",
       "\n",
       "                                         description      location followers  \\\n",
       "0  #bitcoin #fintech Get Free BitCoin - BitCoin F...   Orlando, FL        \\N   \n",
       "1  GUtech Graduate #IT Consultant: #cybersecurity...  Muscat, Oman        \\N   \n",
       "\n",
       "  stakeholder  \n",
       "0   Ambiguous  \n",
       "1   Ambiguous  "
      ]
     },
     "execution_count": 42,
     "metadata": {},
     "output_type": "execute_result"
    }
   ],
   "source": [
    "# Let's reload the original provided DataFrame\n",
    "print(\"Loading the Original Provided Pure DataFrame...Its Big!\")\n",
    "df = pd.read_pickle(\"FinTech_cleaned.pkl\")\n",
    "print(\"Showing you First two rows ... \")\n",
    "df.head(2)"
   ]
  },
  {
   "cell_type": "code",
   "execution_count": 43,
   "metadata": {
    "collapsed": false
   },
   "outputs": [
    {
     "name": "stdout",
     "output_type": "stream",
     "text": [
      "Checking if provided tweets has retweets or just the original tweet: *&^%$: Some Hidden magic...\n"
     ]
    },
    {
     "data": {
      "text/html": [
       "<div>\n",
       "<table border=\"1\" class=\"dataframe\">\n",
       "  <thead>\n",
       "    <tr style=\"text-align: right;\">\n",
       "      <th></th>\n",
       "      <th>topic</th>\n",
       "      <th>tweet</th>\n",
       "      <th>user</th>\n",
       "      <th>date</th>\n",
       "      <th>description</th>\n",
       "      <th>location</th>\n",
       "      <th>followers</th>\n",
       "      <th>stakeholder</th>\n",
       "    </tr>\n",
       "  </thead>\n",
       "  <tbody>\n",
       "  </tbody>\n",
       "</table>\n",
       "</div>"
      ],
      "text/plain": [
       "Empty DataFrame\n",
       "Columns: [topic, tweet, user, date, description, location, followers, stakeholder]\n",
       "Index: []"
      ]
     },
     "execution_count": 43,
     "metadata": {},
     "output_type": "execute_result"
    },
    {
     "name": "stdout",
     "output_type": "stream",
     "text": [
      "Seems it's empty: No retweets then\n",
      "We are good to work on this DataSet: It's Really Clean... My Goodness.\n"
     ]
    }
   ],
   "source": [
    "print('Checking if provided tweets has retweets or just the original tweet: *&^%$: Some Hidden magic...')\n",
    "df[df['tweet']=='THIS IS A RETWEET']\n",
    "print(\"Seems it's empty: No retweets then\")\n",
    "print(\"We are good to work on this DataSet: It's Really Clean... My Goodness.\")"
   ]
  },
  {
   "cell_type": "markdown",
   "metadata": {},
   "source": [
    " ** Now we can do Two things : ** \n",
    "        - We can analyse the hashtags used in description column\n",
    "        - We can alalyse hashtags used in tweet column \n",
    "    Let's do both but one at a time."
   ]
  },
  {
   "cell_type": "code",
   "execution_count": 44,
   "metadata": {
    "collapsed": false
   },
   "outputs": [
    {
     "name": "stdout",
     "output_type": "stream",
     "text": [
      "5235517\n"
     ]
    },
    {
     "data": {
      "text/plain": [
       "['bitcoin', 'fintech', 'get', 'free', 'bitcoin']"
      ]
     },
     "execution_count": 44,
     "metadata": {},
     "output_type": "execute_result"
    }
   ],
   "source": [
    "description_list = []                          #CREATE EMPTY LIST \n",
    "for i in df.description:    #LOOP OVER EVERY CELL IN ENTITIES_HASHTAGS\n",
    "    if pd.notnull(i):                      #IF CELL NOT EMPTY\n",
    "        tags = i.split()                   #SPLIT EACH CELL INTO SEPARATE HASHTAGS\n",
    "        for t in tags:                     #FOR EACH TAG IN THE CELL\n",
    "            t = t.replace('#','')                      #ADD '#' SYMBOL TO BEGINNING OF EACH TAG\n",
    "            t = t.replace(',', '')         #REMOVE COMMAS FROM END OF TAGS\n",
    "            t = t.lower()                  #MAKE TAG LOWER CASE\n",
    "            description_list.append(t)         #ADD TAG TO OUR LIST\n",
    "print(len(description_list))                    #PRINT NUMBER OF ITEMS IN OUR LIST\n",
    "description_list[:5]   \n"
   ]
  },
  {
   "cell_type": "markdown",
   "metadata": {},
   "source": [
    "** We have a lot of stopwords, non english words and website address, we need to drop them all. **"
   ]
  },
  {
   "cell_type": "code",
   "execution_count": 45,
   "metadata": {
    "collapsed": false
   },
   "outputs": [
    {
     "data": {
      "text/plain": [
       "['get', 'free', 'faucet', 'faucet', 'list']"
      ]
     },
     "execution_count": 45,
     "metadata": {},
     "output_type": "execute_result"
    }
   ],
   "source": [
    "import nltk\n",
    "words = set(nltk.corpus.words.words())\n",
    "stopwords = set(nltk.corpus.stopwords.words())\n",
    "\n",
    "description_list = [w for w in description_list if w in words and w not in stopwords]\n",
    "description_list[:5] # list of final clean words"
   ]
  },
  {
   "cell_type": "code",
   "execution_count": 46,
   "metadata": {
    "collapsed": false
   },
   "outputs": [
    {
     "data": {
      "text/html": [
       "<div>\n",
       "<table border=\"1\" class=\"dataframe\">\n",
       "  <thead>\n",
       "    <tr style=\"text-align: right;\">\n",
       "      <th></th>\n",
       "      <th>word</th>\n",
       "    </tr>\n",
       "  </thead>\n",
       "  <tbody>\n",
       "    <tr>\n",
       "      <th>0</th>\n",
       "      <td>get</td>\n",
       "    </tr>\n",
       "    <tr>\n",
       "      <th>1</th>\n",
       "      <td>free</td>\n",
       "    </tr>\n",
       "    <tr>\n",
       "      <th>2</th>\n",
       "      <td>faucet</td>\n",
       "    </tr>\n",
       "    <tr>\n",
       "      <th>3</th>\n",
       "      <td>faucet</td>\n",
       "    </tr>\n",
       "    <tr>\n",
       "      <th>4</th>\n",
       "      <td>list</td>\n",
       "    </tr>\n",
       "  </tbody>\n",
       "</table>\n",
       "</div>"
      ],
      "text/plain": [
       "     word\n",
       "0     get\n",
       "1    free\n",
       "2  faucet\n",
       "3  faucet\n",
       "4    list"
      ]
     },
     "execution_count": 46,
     "metadata": {},
     "output_type": "execute_result"
    }
   ],
   "source": [
    "description_frame = pd.DataFrame(description_list, columns=['word'])\n",
    "description_frame.head()"
   ]
  },
  {
   "cell_type": "code",
   "execution_count": 47,
   "metadata": {
    "collapsed": true
   },
   "outputs": [],
   "source": [
    "def t(x):\n",
    "    return pd.Series(dict(freq = x['word'].count()))"
   ]
  },
  {
   "cell_type": "code",
   "execution_count": 48,
   "metadata": {
    "collapsed": false
   },
   "outputs": [
    {
     "data": {
      "text/html": [
       "<div>\n",
       "<table border=\"1\" class=\"dataframe\">\n",
       "  <thead>\n",
       "    <tr style=\"text-align: right;\">\n",
       "      <th></th>\n",
       "      <th>freq</th>\n",
       "    </tr>\n",
       "    <tr>\n",
       "      <th>word</th>\n",
       "      <th></th>\n",
       "    </tr>\n",
       "  </thead>\n",
       "  <tbody>\n",
       "    <tr>\n",
       "      <th>aa</th>\n",
       "      <td>1</td>\n",
       "    </tr>\n",
       "    <tr>\n",
       "      <th>aam</th>\n",
       "      <td>1</td>\n",
       "    </tr>\n",
       "    <tr>\n",
       "      <th>aba</th>\n",
       "      <td>2</td>\n",
       "    </tr>\n",
       "    <tr>\n",
       "      <th>abaca</th>\n",
       "      <td>2</td>\n",
       "    </tr>\n",
       "    <tr>\n",
       "      <th>abalone</th>\n",
       "      <td>1</td>\n",
       "    </tr>\n",
       "  </tbody>\n",
       "</table>\n",
       "</div>"
      ],
      "text/plain": [
       "         freq\n",
       "word         \n",
       "aa          1\n",
       "aam         1\n",
       "aba         2\n",
       "abaca       2\n",
       "abalone     1"
      ]
     },
     "execution_count": 48,
     "metadata": {},
     "output_type": "execute_result"
    }
   ],
   "source": [
    "description_count = description_frame.groupby('word').apply(t)\n",
    "description_count.head()"
   ]
  },
  {
   "cell_type": "code",
   "execution_count": 49,
   "metadata": {
    "collapsed": false
   },
   "outputs": [
    {
     "name": "stdout",
     "output_type": "stream",
     "text": [
      "Most Used Words in Tweet Description\n"
     ]
    },
    {
     "name": "stderr",
     "output_type": "stream",
     "text": [
      "/Library/Frameworks/Python.framework/Versions/3.5/lib/python3.5/site-packages/ipykernel/__main__.py:1: FutureWarning: sort(columns=....) is deprecated, use sort_values(by=.....)\n",
      "  if __name__ == '__main__':\n"
     ]
    },
    {
     "data": {
      "text/html": [
       "<div>\n",
       "<table border=\"1\" class=\"dataframe\">\n",
       "  <thead>\n",
       "    <tr style=\"text-align: right;\">\n",
       "      <th></th>\n",
       "      <th>freq</th>\n",
       "    </tr>\n",
       "    <tr>\n",
       "      <th>word</th>\n",
       "      <th></th>\n",
       "    </tr>\n",
       "  </thead>\n",
       "  <tbody>\n",
       "    <tr>\n",
       "      <th>news</th>\n",
       "      <td>34747</td>\n",
       "    </tr>\n",
       "    <tr>\n",
       "      <th>technology</th>\n",
       "      <td>24316</td>\n",
       "    </tr>\n",
       "    <tr>\n",
       "      <th>digital</th>\n",
       "      <td>24108</td>\n",
       "    </tr>\n",
       "    <tr>\n",
       "      <th>innovation</th>\n",
       "      <td>24053</td>\n",
       "    </tr>\n",
       "    <tr>\n",
       "      <th>director</th>\n",
       "      <td>22437</td>\n",
       "    </tr>\n",
       "  </tbody>\n",
       "</table>\n",
       "</div>"
      ],
      "text/plain": [
       "             freq\n",
       "word             \n",
       "news        34747\n",
       "technology  24316\n",
       "digital     24108\n",
       "innovation  24053\n",
       "director    22437"
      ]
     },
     "execution_count": 49,
     "metadata": {},
     "output_type": "execute_result"
    },
    {
     "name": "stdout",
     "output_type": "stream",
     "text": [
      "---------------------------\n",
      "Least Used Words in Tweet Description\n"
     ]
    },
    {
     "data": {
      "text/html": [
       "<div>\n",
       "<table border=\"1\" class=\"dataframe\">\n",
       "  <thead>\n",
       "    <tr style=\"text-align: right;\">\n",
       "      <th></th>\n",
       "      <th>freq</th>\n",
       "    </tr>\n",
       "    <tr>\n",
       "      <th>word</th>\n",
       "      <th></th>\n",
       "    </tr>\n",
       "  </thead>\n",
       "  <tbody>\n",
       "    <tr>\n",
       "      <th>horned</th>\n",
       "      <td>1</td>\n",
       "    </tr>\n",
       "    <tr>\n",
       "      <th>horizontal</th>\n",
       "      <td>1</td>\n",
       "    </tr>\n",
       "    <tr>\n",
       "      <th>skinned</th>\n",
       "      <td>1</td>\n",
       "    </tr>\n",
       "    <tr>\n",
       "      <th>hora</th>\n",
       "      <td>1</td>\n",
       "    </tr>\n",
       "    <tr>\n",
       "      <th>aa</th>\n",
       "      <td>1</td>\n",
       "    </tr>\n",
       "  </tbody>\n",
       "</table>\n",
       "</div>"
      ],
      "text/plain": [
       "            freq\n",
       "word            \n",
       "horned         1\n",
       "horizontal     1\n",
       "skinned        1\n",
       "hora           1\n",
       "aa             1"
      ]
     },
     "execution_count": 49,
     "metadata": {},
     "output_type": "execute_result"
    },
    {
     "name": "stdout",
     "output_type": "stream",
     "text": [
      "---------------------------\n"
     ]
    }
   ],
   "source": [
    "description_count  = description_count.sort('freq', ascending=False)\n",
    "print(\"Most Used Words in Tweet Description\")\n",
    "description_count.head()\n",
    "print(\"---------------------------\")\n",
    "print(\"Least Used Words in Tweet Description\")\n",
    "description_count.tail()\n",
    "print(\"---------------------------\")\n"
   ]
  },
  {
   "cell_type": "markdown",
   "metadata": {},
   "source": [
    "** Peole are describing FinTech most likely as in NEWS, Digital,Innovation and Latest Technology and least likely as Horned or skinned. Therefore, we can say; Tweeple's (people on twitter) in this dataset has a positive feeling towards FinTech. **"
   ]
  },
  {
   "cell_type": "code",
   "execution_count": 50,
   "metadata": {
    "collapsed": false
   },
   "outputs": [
    {
     "data": {
      "image/png": "[encoded data removed]",
      "text/plain": [
       "<matplotlib.figure.Figure at 0x112b97710>"
      ]
     },
     "metadata": {},
     "output_type": "display_data"
    }
   ],
   "source": [
    "description_count.plot(title = 'Frequency of words used in Desction column');"
   ]
  },
  {
   "cell_type": "code",
   "execution_count": null,
   "metadata": {
    "collapsed": true
   },
   "outputs": [],
   "source": []
  },
  {
   "cell_type": "code",
   "execution_count": 51,
   "metadata": {
    "collapsed": false
   },
   "outputs": [
    {
     "name": "stdout",
     "output_type": "stream",
     "text": [
      "WordCloud of Most Used words in Description\n"
     ]
    },
    {
     "data": {
      "image/png": "[encoded data removed]",
      "text/plain": [
       "<matplotlib.figure.Figure at 0x10dd199e8>"
      ]
     },
     "metadata": {},
     "output_type": "display_data"
    }
   ],
   "source": [
    "print(\"WordCloud of Most Used words in Description\")\n",
    "description_wordcloud = WordCloud().generate(str(description_list));\n",
    "plt.imshow(description_wordcloud);\n",
    "plt.axis(\"off\");\n",
    "plt.show();"
   ]
  },
  {
   "cell_type": "markdown",
   "metadata": {},
   "source": [
    "## Let's do this all for tweets"
   ]
  },
  {
   "cell_type": "code",
   "execution_count": 52,
   "metadata": {
    "collapsed": false
   },
   "outputs": [
    {
     "name": "stdout",
     "output_type": "stream",
     "text": [
      "5315638\n"
     ]
    },
    {
     "data": {
      "text/plain": [
       "['bitcoin', 'fintech', 'fedcoin:', 'the', 'u.s.']"
      ]
     },
     "execution_count": 52,
     "metadata": {},
     "output_type": "execute_result"
    }
   ],
   "source": [
    "tweet_list = []                          #CREATE EMPTY LIST \n",
    "for i in df.tweet:    #LOOP OVER EVERY CELL IN ENTITIES_HASHTAGS\n",
    "    if pd.notnull(i):                      #IF CELL NOT EMPTY\n",
    "        tags = i.split()                   #SPLIT EACH CELL INTO SEPARATE HASHTAGS\n",
    "        for t in tags:                     #FOR EACH TAG IN THE CELL\n",
    "            t = t.replace('#','')                      #ADD '#' SYMBOL TO BEGINNING OF EACH TAG\n",
    "            t = t.replace(',', '')         #REMOVE COMMAS FROM END OF TAGS\n",
    "            t = t.lower()                  #MAKE TAG LOWER CASE\n",
    "            tweet_list.append(t)         #ADD TAG TO OUR LIST\n",
    "print(len(tweet_list))                    #PRINT NUMBER OF ITEMS IN OUR LIST\n",
    "tweet_list[:5] "
   ]
  },
  {
   "cell_type": "markdown",
   "metadata": {},
   "source": [
    "** We have a lot of stopwords, non english words and website address, we need to drop them all. **"
   ]
  },
  {
   "cell_type": "code",
   "execution_count": 53,
   "metadata": {
    "collapsed": false
   },
   "outputs": [
    {
     "data": {
      "text/plain": [
       "['issue', 'use', 'one', 'innovation', 'silver']"
      ]
     },
     "execution_count": 53,
     "metadata": {},
     "output_type": "execute_result"
    }
   ],
   "source": [
    "import nltk\n",
    "words = set(nltk.corpus.words.words())\n",
    "stopwords = set(nltk.corpus.stopwords.words())\n",
    "\n",
    "tweet_list = [w for w in tweet_list if w in words and w not in stopwords]\n",
    "tweet_list[:5] # list of final clean words"
   ]
  },
  {
   "cell_type": "code",
   "execution_count": 54,
   "metadata": {
    "collapsed": false
   },
   "outputs": [
    {
     "data": {
      "text/html": [
       "<div>\n",
       "<table border=\"1\" class=\"dataframe\">\n",
       "  <thead>\n",
       "    <tr style=\"text-align: right;\">\n",
       "      <th></th>\n",
       "      <th>word</th>\n",
       "    </tr>\n",
       "  </thead>\n",
       "  <tbody>\n",
       "    <tr>\n",
       "      <th>0</th>\n",
       "      <td>issue</td>\n",
       "    </tr>\n",
       "    <tr>\n",
       "      <th>1</th>\n",
       "      <td>use</td>\n",
       "    </tr>\n",
       "    <tr>\n",
       "      <th>2</th>\n",
       "      <td>one</td>\n",
       "    </tr>\n",
       "    <tr>\n",
       "      <th>3</th>\n",
       "      <td>innovation</td>\n",
       "    </tr>\n",
       "    <tr>\n",
       "      <th>4</th>\n",
       "      <td>silver</td>\n",
       "    </tr>\n",
       "  </tbody>\n",
       "</table>\n",
       "</div>"
      ],
      "text/plain": [
       "         word\n",
       "0       issue\n",
       "1         use\n",
       "2         one\n",
       "3  innovation\n",
       "4      silver"
      ]
     },
     "execution_count": 54,
     "metadata": {},
     "output_type": "execute_result"
    }
   ],
   "source": [
    "tweet_frame = pd.DataFrame(tweet_list, columns=['word'])\n",
    "tweet_frame.head()"
   ]
  },
  {
   "cell_type": "code",
   "execution_count": 55,
   "metadata": {
    "collapsed": true
   },
   "outputs": [],
   "source": [
    "def t(x):\n",
    "    return pd.Series(dict(freq = x['word'].count()))"
   ]
  },
  {
   "cell_type": "code",
   "execution_count": 56,
   "metadata": {
    "collapsed": false
   },
   "outputs": [
    {
     "data": {
      "text/html": [
       "<div>\n",
       "<table border=\"1\" class=\"dataframe\">\n",
       "  <thead>\n",
       "    <tr style=\"text-align: right;\">\n",
       "      <th></th>\n",
       "      <th>freq</th>\n",
       "    </tr>\n",
       "    <tr>\n",
       "      <th>word</th>\n",
       "      <th></th>\n",
       "    </tr>\n",
       "  </thead>\n",
       "  <tbody>\n",
       "    <tr>\n",
       "      <th>aa</th>\n",
       "      <td>1</td>\n",
       "    </tr>\n",
       "    <tr>\n",
       "      <th>aba</th>\n",
       "      <td>77</td>\n",
       "    </tr>\n",
       "    <tr>\n",
       "      <th>abacus</th>\n",
       "      <td>15</td>\n",
       "    </tr>\n",
       "    <tr>\n",
       "      <th>abandon</th>\n",
       "      <td>4</td>\n",
       "    </tr>\n",
       "    <tr>\n",
       "      <th>abandoned</th>\n",
       "      <td>5</td>\n",
       "    </tr>\n",
       "  </tbody>\n",
       "</table>\n",
       "</div>"
      ],
      "text/plain": [
       "           freq\n",
       "word           \n",
       "aa            1\n",
       "aba          77\n",
       "abacus       15\n",
       "abandon       4\n",
       "abandoned     5"
      ]
     },
     "execution_count": 56,
     "metadata": {},
     "output_type": "execute_result"
    }
   ],
   "source": [
    "tweet_count = tweet_frame.groupby('word').apply(t)\n",
    "tweet_count.head()"
   ]
  },
  {
   "cell_type": "code",
   "execution_count": 57,
   "metadata": {
    "collapsed": false
   },
   "outputs": [
    {
     "name": "stdout",
     "output_type": "stream",
     "text": [
      "Most Used Words in Tweets\n"
     ]
    },
    {
     "name": "stderr",
     "output_type": "stream",
     "text": [
      "/Library/Frameworks/Python.framework/Versions/3.5/lib/python3.5/site-packages/ipykernel/__main__.py:1: FutureWarning: sort(columns=....) is deprecated, use sort_values(by=.....)\n",
      "  if __name__ == '__main__':\n"
     ]
    },
    {
     "data": {
      "text/html": [
       "<div>\n",
       "<table border=\"1\" class=\"dataframe\">\n",
       "  <thead>\n",
       "    <tr style=\"text-align: right;\">\n",
       "      <th></th>\n",
       "      <th>freq</th>\n",
       "    </tr>\n",
       "    <tr>\n",
       "      <th>word</th>\n",
       "      <th></th>\n",
       "    </tr>\n",
       "  </thead>\n",
       "  <tbody>\n",
       "    <tr>\n",
       "      <th>banking</th>\n",
       "      <td>26458</td>\n",
       "    </tr>\n",
       "    <tr>\n",
       "      <th>via</th>\n",
       "      <td>21460</td>\n",
       "    </tr>\n",
       "    <tr>\n",
       "      <th>thanks</th>\n",
       "      <td>17192</td>\n",
       "    </tr>\n",
       "    <tr>\n",
       "      <th>latest</th>\n",
       "      <td>16825</td>\n",
       "    </tr>\n",
       "    <tr>\n",
       "      <th>tech</th>\n",
       "      <td>16767</td>\n",
       "    </tr>\n",
       "  </tbody>\n",
       "</table>\n",
       "</div>"
      ],
      "text/plain": [
       "          freq\n",
       "word          \n",
       "banking  26458\n",
       "via      21460\n",
       "thanks   17192\n",
       "latest   16825\n",
       "tech     16767"
      ]
     },
     "execution_count": 57,
     "metadata": {},
     "output_type": "execute_result"
    },
    {
     "name": "stdout",
     "output_type": "stream",
     "text": [
      "---------------------------\n",
      "Least Used Words in Tweets\n"
     ]
    },
    {
     "data": {
      "text/html": [
       "<div>\n",
       "<table border=\"1\" class=\"dataframe\">\n",
       "  <thead>\n",
       "    <tr style=\"text-align: right;\">\n",
       "      <th></th>\n",
       "      <th>freq</th>\n",
       "    </tr>\n",
       "    <tr>\n",
       "      <th>word</th>\n",
       "      <th></th>\n",
       "    </tr>\n",
       "  </thead>\n",
       "  <tbody>\n",
       "    <tr>\n",
       "      <th>deflationary</th>\n",
       "      <td>1</td>\n",
       "    </tr>\n",
       "    <tr>\n",
       "      <th>renegade</th>\n",
       "      <td>1</td>\n",
       "    </tr>\n",
       "    <tr>\n",
       "      <th>deficit</th>\n",
       "      <td>1</td>\n",
       "    </tr>\n",
       "    <tr>\n",
       "      <th>deficiency</th>\n",
       "      <td>1</td>\n",
       "    </tr>\n",
       "    <tr>\n",
       "      <th>aa</th>\n",
       "      <td>1</td>\n",
       "    </tr>\n",
       "  </tbody>\n",
       "</table>\n",
       "</div>"
      ],
      "text/plain": [
       "              freq\n",
       "word              \n",
       "deflationary     1\n",
       "renegade         1\n",
       "deficit          1\n",
       "deficiency       1\n",
       "aa               1"
      ]
     },
     "execution_count": 57,
     "metadata": {},
     "output_type": "execute_result"
    }
   ],
   "source": [
    "tweet_count  = tweet_count.sort('freq', ascending=False);\n",
    "print(\"Most Used Words in Tweets\")\n",
    "tweet_count.head()\n",
    "print(\"---------------------------\")\n",
    "print(\"Least Used Words in Tweets\")\n",
    "tweet_count.tail()\n"
   ]
  },
  {
   "cell_type": "code",
   "execution_count": 58,
   "metadata": {
    "collapsed": false
   },
   "outputs": [
    {
     "name": "stdout",
     "output_type": "stream",
     "text": [
      "---------------------------\n"
     ]
    },
    {
     "data": {
      "image/png": "[encoded data removed]",
      "text/plain": [
       "<matplotlib.figure.Figure at 0x11941a6a0>"
      ]
     },
     "metadata": {},
     "output_type": "display_data"
    }
   ],
   "source": [
    "print(\"---------------------------\")\n",
    "tweet_count.plot(title = 'Frequency of words used in Tweets');"
   ]
  },
  {
   "cell_type": "markdown",
   "metadata": {},
   "source": [
    "** Peole are describing FinTech most likely as Banking and Latest Tech and least likely as deflationary or renegade.\n",
    "Therefore, we can say; Tweeple's (people on twitter) in this dataset has a positive feeling towards FinTech. **"
   ]
  },
  {
   "cell_type": "code",
   "execution_count": 60,
   "metadata": {
    "collapsed": false
   },
   "outputs": [
    {
     "data": {
      "image/png": "[encoded data removed]",
      "text/plain": [
       "<matplotlib.figure.Figure at 0x118857e80>"
      ]
     },
     "metadata": {},
     "output_type": "display_data"
    }
   ],
   "source": [
    "tweet_wordcloud = WordCloud().generate(str(tweet_list));\n",
    "plt.imshow(tweet_wordcloud);\n",
    "plt.axis(\"off\");\n",
    "plt.show();"
   ]
  },
  {
   "cell_type": "code",
   "execution_count": null,
   "metadata": {
    "collapsed": true
   },
   "outputs": [],
   "source": []
  },
  {
   "cell_type": "markdown",
   "metadata": {},
   "source": [
    "## Additionaly we can create new features using countvectoriser function and make plots about what are most use words according to location as well as stakeholders"
   ]
  },
  {
   "cell_type": "code",
   "execution_count": 61,
   "metadata": {
    "collapsed": false
   },
   "outputs": [],
   "source": [
    "from sklearn.feature_extraction.text import CountVectorizer\n",
    "cv = CountVectorizer()\n"
   ]
  },
  {
   "cell_type": "markdown",
   "metadata": {
    "collapsed": true
   },
   "source": [
    "*** I tried but my computer(4GB RAM) is freezing while vectorising words in tweets or description.\n",
    "I will try to tune the parameter to make it work in a low memory system. ***\n",
    "...."
   ]
  },
  {
   "cell_type": "markdown",
   "metadata": {
    "collapsed": true
   },
   "source": [
    "** I will study about nltk library to check if that can help me overcome the memory issue. **"
   ]
  },
  {
   "cell_type": "code",
   "execution_count": null,
   "metadata": {
    "collapsed": true
   },
   "outputs": [],
   "source": []
  }
 ],
 "metadata": {
  "kernelspec": {
   "display_name": "Python 3",
   "language": "python",
   "name": "python3"
  },
  "language_info": {
   "codemirror_mode": {
    "name": "ipython",
    "version": 3
   },
   "file_extension": ".py",
   "mimetype": "text/x-python",
   "name": "python",
   "nbconvert_exporter": "python",
   "pygments_lexer": "ipython3",
   "version": "3.5.1"
  }
 },
 "nbformat": 4,
 "nbformat_minor": 2
}
